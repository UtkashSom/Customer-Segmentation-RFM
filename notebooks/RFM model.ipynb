{
 "cells": [
  {
   "cell_type": "markdown",
   "metadata": {},
   "source": [
    "IMPORTING LIBRARIES"
   ]
  },
  {
   "cell_type": "code",
   "execution_count": 1,
   "metadata": {},
   "outputs": [],
   "source": [
    "import pandas as pd\n",
    "import numpy as np\n",
    "import seaborn as sns\n",
    "import matplotlib.pyplot as plt\n",
    "from sklearn.cluster import KMeans\n",
    "from sklearn.preprocessing import StandardScaler"
   ]
  },
  {
   "cell_type": "code",
   "execution_count": 6,
   "metadata": {},
   "outputs": [],
   "source": [
    "df = pd.read_csv(r'C:\\Users\\utkso\\OneDrive\\Desktop\\Utk\\Projects\\Utkarsh Som CDKeys CRM Analyst\\data\\Cleaned.csv')"
   ]
  },
  {
   "cell_type": "markdown",
   "metadata": {},
   "source": [
    "EXPLORING THE DATA\n"
   ]
  },
  {
   "cell_type": "code",
   "execution_count": 4,
   "metadata": {},
   "outputs": [
    {
     "data": {
      "application/vnd.microsoft.datawrangler.viewer.v0+json": {
       "columns": [
        {
         "name": "index",
         "rawType": "int64",
         "type": "integer"
        },
        {
         "name": "Customer",
         "rawType": "int64",
         "type": "integer"
        },
        {
         "name": "Purchase Date",
         "rawType": "object",
         "type": "string"
        },
        {
         "name": "Product",
         "rawType": "object",
         "type": "string"
        },
        {
         "name": "Price/Qty",
         "rawType": "float64",
         "type": "float"
        },
        {
         "name": "Price",
         "rawType": "float64",
         "type": "float"
        },
        {
         "name": "Quantity",
         "rawType": "int64",
         "type": "integer"
        },
        {
         "name": "Status",
         "rawType": "object",
         "type": "string"
        },
        {
         "name": "Unnamed: 7",
         "rawType": "float64",
         "type": "float"
        },
        {
         "name": "Unnamed: 8",
         "rawType": "float64",
         "type": "float"
        },
        {
         "name": "Unnamed: 9",
         "rawType": "float64",
         "type": "float"
        },
        {
         "name": "Unnamed: 10",
         "rawType": "float64",
         "type": "float"
        }
       ],
       "conversionMethod": "pd.DataFrame",
       "ref": "fee342ef-b749-4b4c-9b22-2fa746338c9e",
       "rows": [
        [
         "0",
         "82672",
         "19/05/2024 3:49",
         "Ghost of Tsushima DIRECTOR'S CUT PC",
         "197644.09",
         "197644.09",
         "1",
         "complete",
         null,
         null,
         null,
         null
        ],
        [
         "1",
         "82672",
         "28/07/2024 22:10",
         "ARMORED CORE VI FIRES OF RUBICON PC",
         "131561.69",
         "131561.69",
         "1",
         "complete",
         null,
         null,
         null,
         null
        ],
        [
         "2",
         "73874",
         "19/12/2024 8:33",
         "Warhammer 40,000: Space Marine 2 PC",
         "59679.0",
         "59679.0",
         "1",
         "complete",
         null,
         null,
         null,
         null
        ],
        [
         "3",
         "73846",
         "19/12/2024 4:05",
         "Warhammer 40,000: Space Marine 2 PC",
         "59679.0",
         "59679.0",
         "1",
         "complete",
         null,
         null,
         null,
         null
        ],
        [
         "4",
         "73818",
         "19/12/2024 3:28",
         "Warhammer 40,000: Space Marine 2 PC",
         "59679.0",
         "59679.0",
         "1",
         "complete",
         null,
         null,
         null,
         null
        ]
       ],
       "shape": {
        "columns": 11,
        "rows": 5
       }
      },
      "text/html": [
       "<div>\n",
       "<style scoped>\n",
       "    .dataframe tbody tr th:only-of-type {\n",
       "        vertical-align: middle;\n",
       "    }\n",
       "\n",
       "    .dataframe tbody tr th {\n",
       "        vertical-align: top;\n",
       "    }\n",
       "\n",
       "    .dataframe thead th {\n",
       "        text-align: right;\n",
       "    }\n",
       "</style>\n",
       "<table border=\"1\" class=\"dataframe\">\n",
       "  <thead>\n",
       "    <tr style=\"text-align: right;\">\n",
       "      <th></th>\n",
       "      <th>Customer</th>\n",
       "      <th>Purchase Date</th>\n",
       "      <th>Product</th>\n",
       "      <th>Price/Qty</th>\n",
       "      <th>Price</th>\n",
       "      <th>Quantity</th>\n",
       "      <th>Status</th>\n",
       "      <th>Unnamed: 7</th>\n",
       "      <th>Unnamed: 8</th>\n",
       "      <th>Unnamed: 9</th>\n",
       "      <th>Unnamed: 10</th>\n",
       "    </tr>\n",
       "  </thead>\n",
       "  <tbody>\n",
       "    <tr>\n",
       "      <th>0</th>\n",
       "      <td>82672</td>\n",
       "      <td>19/05/2024 3:49</td>\n",
       "      <td>Ghost of Tsushima DIRECTOR'S CUT PC</td>\n",
       "      <td>197644.09</td>\n",
       "      <td>197644.09</td>\n",
       "      <td>1</td>\n",
       "      <td>complete</td>\n",
       "      <td>NaN</td>\n",
       "      <td>NaN</td>\n",
       "      <td>NaN</td>\n",
       "      <td>NaN</td>\n",
       "    </tr>\n",
       "    <tr>\n",
       "      <th>1</th>\n",
       "      <td>82672</td>\n",
       "      <td>28/07/2024 22:10</td>\n",
       "      <td>ARMORED CORE VI FIRES OF RUBICON PC</td>\n",
       "      <td>131561.69</td>\n",
       "      <td>131561.69</td>\n",
       "      <td>1</td>\n",
       "      <td>complete</td>\n",
       "      <td>NaN</td>\n",
       "      <td>NaN</td>\n",
       "      <td>NaN</td>\n",
       "      <td>NaN</td>\n",
       "    </tr>\n",
       "    <tr>\n",
       "      <th>2</th>\n",
       "      <td>73874</td>\n",
       "      <td>19/12/2024 8:33</td>\n",
       "      <td>Warhammer 40,000: Space Marine 2 PC</td>\n",
       "      <td>59679.00</td>\n",
       "      <td>59679.00</td>\n",
       "      <td>1</td>\n",
       "      <td>complete</td>\n",
       "      <td>NaN</td>\n",
       "      <td>NaN</td>\n",
       "      <td>NaN</td>\n",
       "      <td>NaN</td>\n",
       "    </tr>\n",
       "    <tr>\n",
       "      <th>3</th>\n",
       "      <td>73846</td>\n",
       "      <td>19/12/2024 4:05</td>\n",
       "      <td>Warhammer 40,000: Space Marine 2 PC</td>\n",
       "      <td>59679.00</td>\n",
       "      <td>59679.00</td>\n",
       "      <td>1</td>\n",
       "      <td>complete</td>\n",
       "      <td>NaN</td>\n",
       "      <td>NaN</td>\n",
       "      <td>NaN</td>\n",
       "      <td>NaN</td>\n",
       "    </tr>\n",
       "    <tr>\n",
       "      <th>4</th>\n",
       "      <td>73818</td>\n",
       "      <td>19/12/2024 3:28</td>\n",
       "      <td>Warhammer 40,000: Space Marine 2 PC</td>\n",
       "      <td>59679.00</td>\n",
       "      <td>59679.00</td>\n",
       "      <td>1</td>\n",
       "      <td>complete</td>\n",
       "      <td>NaN</td>\n",
       "      <td>NaN</td>\n",
       "      <td>NaN</td>\n",
       "      <td>NaN</td>\n",
       "    </tr>\n",
       "  </tbody>\n",
       "</table>\n",
       "</div>"
      ],
      "text/plain": [
       "   Customer     Purchase Date                              Product  Price/Qty  \\\n",
       "0     82672   19/05/2024 3:49  Ghost of Tsushima DIRECTOR'S CUT PC  197644.09   \n",
       "1     82672  28/07/2024 22:10  ARMORED CORE VI FIRES OF RUBICON PC  131561.69   \n",
       "2     73874   19/12/2024 8:33  Warhammer 40,000: Space Marine 2 PC   59679.00   \n",
       "3     73846   19/12/2024 4:05  Warhammer 40,000: Space Marine 2 PC   59679.00   \n",
       "4     73818   19/12/2024 3:28  Warhammer 40,000: Space Marine 2 PC   59679.00   \n",
       "\n",
       "       Price  Quantity    Status  Unnamed: 7  Unnamed: 8  Unnamed: 9  \\\n",
       "0  197644.09         1  complete         NaN         NaN         NaN   \n",
       "1  131561.69         1  complete         NaN         NaN         NaN   \n",
       "2   59679.00         1  complete         NaN         NaN         NaN   \n",
       "3   59679.00         1  complete         NaN         NaN         NaN   \n",
       "4   59679.00         1  complete         NaN         NaN         NaN   \n",
       "\n",
       "   Unnamed: 10  \n",
       "0          NaN  \n",
       "1          NaN  \n",
       "2          NaN  \n",
       "3          NaN  \n",
       "4          NaN  "
      ]
     },
     "execution_count": 4,
     "metadata": {},
     "output_type": "execute_result"
    }
   ],
   "source": [
    "df.head()"
   ]
  },
  {
   "cell_type": "code",
   "execution_count": 5,
   "metadata": {},
   "outputs": [
    {
     "data": {
      "application/vnd.microsoft.datawrangler.viewer.v0+json": {
       "columns": [
        {
         "name": "index",
         "rawType": "int64",
         "type": "integer"
        },
        {
         "name": "Customer",
         "rawType": "int64",
         "type": "integer"
        },
        {
         "name": "Purchase Date",
         "rawType": "object",
         "type": "string"
        },
        {
         "name": "Product",
         "rawType": "object",
         "type": "string"
        },
        {
         "name": "Price/Qty",
         "rawType": "float64",
         "type": "float"
        },
        {
         "name": "Price",
         "rawType": "float64",
         "type": "float"
        },
        {
         "name": "Quantity",
         "rawType": "int64",
         "type": "integer"
        },
        {
         "name": "Status",
         "rawType": "object",
         "type": "string"
        },
        {
         "name": "Unnamed: 7",
         "rawType": "float64",
         "type": "float"
        },
        {
         "name": "Unnamed: 8",
         "rawType": "float64",
         "type": "float"
        },
        {
         "name": "Unnamed: 9",
         "rawType": "float64",
         "type": "float"
        },
        {
         "name": "Unnamed: 10",
         "rawType": "float64",
         "type": "float"
        }
       ],
       "conversionMethod": "pd.DataFrame",
       "ref": "7c3d6f81-cea5-4de0-9881-910acc222a21",
       "rows": [
        [
         "14240",
         "89156",
         "7/12/2024 7:25",
         "Snowtopia: Ski Resort Tycoon PC",
         "0.59",
         "0.59",
         "1",
         "complete",
         null,
         null,
         null,
         null
        ],
        [
         "14241",
         "46857",
         "15/04/2024 7:43",
         "Sins of a Solar Empire Trinity PC",
         "6.19",
         "6.19",
         "1",
         "canceled",
         null,
         null,
         null,
         null
        ],
        [
         "14242",
         "46857",
         "15/04/2024 7:42",
         "Sins of a Solar Empire Trinity PC",
         "6.19",
         "6.19",
         "1",
         "canceled",
         null,
         null,
         null,
         null
        ],
        [
         "14243",
         "46857",
         "15/04/2024 7:37",
         "Sins of a Solar Empire Trinity PC",
         "6.19",
         "6.19",
         "1",
         "canceled",
         null,
         null,
         null,
         null
        ],
        [
         "14244",
         "90292",
         "18/09/2024 11:54",
         "All You Can Eat PC",
         "0.39",
         "0.39",
         "1",
         "complete",
         null,
         null,
         null,
         null
        ]
       ],
       "shape": {
        "columns": 11,
        "rows": 5
       }
      },
      "text/html": [
       "<div>\n",
       "<style scoped>\n",
       "    .dataframe tbody tr th:only-of-type {\n",
       "        vertical-align: middle;\n",
       "    }\n",
       "\n",
       "    .dataframe tbody tr th {\n",
       "        vertical-align: top;\n",
       "    }\n",
       "\n",
       "    .dataframe thead th {\n",
       "        text-align: right;\n",
       "    }\n",
       "</style>\n",
       "<table border=\"1\" class=\"dataframe\">\n",
       "  <thead>\n",
       "    <tr style=\"text-align: right;\">\n",
       "      <th></th>\n",
       "      <th>Customer</th>\n",
       "      <th>Purchase Date</th>\n",
       "      <th>Product</th>\n",
       "      <th>Price/Qty</th>\n",
       "      <th>Price</th>\n",
       "      <th>Quantity</th>\n",
       "      <th>Status</th>\n",
       "      <th>Unnamed: 7</th>\n",
       "      <th>Unnamed: 8</th>\n",
       "      <th>Unnamed: 9</th>\n",
       "      <th>Unnamed: 10</th>\n",
       "    </tr>\n",
       "  </thead>\n",
       "  <tbody>\n",
       "    <tr>\n",
       "      <th>14240</th>\n",
       "      <td>89156</td>\n",
       "      <td>7/12/2024 7:25</td>\n",
       "      <td>Snowtopia: Ski Resort Tycoon PC</td>\n",
       "      <td>0.59</td>\n",
       "      <td>0.59</td>\n",
       "      <td>1</td>\n",
       "      <td>complete</td>\n",
       "      <td>NaN</td>\n",
       "      <td>NaN</td>\n",
       "      <td>NaN</td>\n",
       "      <td>NaN</td>\n",
       "    </tr>\n",
       "    <tr>\n",
       "      <th>14241</th>\n",
       "      <td>46857</td>\n",
       "      <td>15/04/2024 7:43</td>\n",
       "      <td>Sins of a Solar Empire Trinity PC</td>\n",
       "      <td>6.19</td>\n",
       "      <td>6.19</td>\n",
       "      <td>1</td>\n",
       "      <td>canceled</td>\n",
       "      <td>NaN</td>\n",
       "      <td>NaN</td>\n",
       "      <td>NaN</td>\n",
       "      <td>NaN</td>\n",
       "    </tr>\n",
       "    <tr>\n",
       "      <th>14242</th>\n",
       "      <td>46857</td>\n",
       "      <td>15/04/2024 7:42</td>\n",
       "      <td>Sins of a Solar Empire Trinity PC</td>\n",
       "      <td>6.19</td>\n",
       "      <td>6.19</td>\n",
       "      <td>1</td>\n",
       "      <td>canceled</td>\n",
       "      <td>NaN</td>\n",
       "      <td>NaN</td>\n",
       "      <td>NaN</td>\n",
       "      <td>NaN</td>\n",
       "    </tr>\n",
       "    <tr>\n",
       "      <th>14243</th>\n",
       "      <td>46857</td>\n",
       "      <td>15/04/2024 7:37</td>\n",
       "      <td>Sins of a Solar Empire Trinity PC</td>\n",
       "      <td>6.19</td>\n",
       "      <td>6.19</td>\n",
       "      <td>1</td>\n",
       "      <td>canceled</td>\n",
       "      <td>NaN</td>\n",
       "      <td>NaN</td>\n",
       "      <td>NaN</td>\n",
       "      <td>NaN</td>\n",
       "    </tr>\n",
       "    <tr>\n",
       "      <th>14244</th>\n",
       "      <td>90292</td>\n",
       "      <td>18/09/2024 11:54</td>\n",
       "      <td>All You Can Eat PC</td>\n",
       "      <td>0.39</td>\n",
       "      <td>0.39</td>\n",
       "      <td>1</td>\n",
       "      <td>complete</td>\n",
       "      <td>NaN</td>\n",
       "      <td>NaN</td>\n",
       "      <td>NaN</td>\n",
       "      <td>NaN</td>\n",
       "    </tr>\n",
       "  </tbody>\n",
       "</table>\n",
       "</div>"
      ],
      "text/plain": [
       "       Customer     Purchase Date                            Product  \\\n",
       "14240     89156    7/12/2024 7:25    Snowtopia: Ski Resort Tycoon PC   \n",
       "14241     46857   15/04/2024 7:43  Sins of a Solar Empire Trinity PC   \n",
       "14242     46857   15/04/2024 7:42  Sins of a Solar Empire Trinity PC   \n",
       "14243     46857   15/04/2024 7:37  Sins of a Solar Empire Trinity PC   \n",
       "14244     90292  18/09/2024 11:54                 All You Can Eat PC   \n",
       "\n",
       "       Price/Qty  Price  Quantity    Status  Unnamed: 7  Unnamed: 8  \\\n",
       "14240       0.59   0.59         1  complete         NaN         NaN   \n",
       "14241       6.19   6.19         1  canceled         NaN         NaN   \n",
       "14242       6.19   6.19         1  canceled         NaN         NaN   \n",
       "14243       6.19   6.19         1  canceled         NaN         NaN   \n",
       "14244       0.39   0.39         1  complete         NaN         NaN   \n",
       "\n",
       "       Unnamed: 9  Unnamed: 10  \n",
       "14240         NaN          NaN  \n",
       "14241         NaN          NaN  \n",
       "14242         NaN          NaN  \n",
       "14243         NaN          NaN  \n",
       "14244         NaN          NaN  "
      ]
     },
     "execution_count": 5,
     "metadata": {},
     "output_type": "execute_result"
    }
   ],
   "source": [
    "df.tail()"
   ]
  },
  {
   "cell_type": "code",
   "execution_count": 6,
   "metadata": {},
   "outputs": [
    {
     "data": {
      "text/plain": [
       "Customer           int64\n",
       "Purchase Date     object\n",
       "Product           object\n",
       "Price/Qty        float64\n",
       "Price            float64\n",
       "Quantity           int64\n",
       "Status            object\n",
       "Unnamed: 7       float64\n",
       "Unnamed: 8       float64\n",
       "Unnamed: 9       float64\n",
       "Unnamed: 10      float64\n",
       "dtype: object"
      ]
     },
     "execution_count": 6,
     "metadata": {},
     "output_type": "execute_result"
    }
   ],
   "source": [
    "df.dtypes"
   ]
  },
  {
   "cell_type": "markdown",
   "metadata": {},
   "source": [
    "FILTERING OUT ONLY COMPLETE TRANSACTIONS"
   ]
  },
  {
   "cell_type": "code",
   "execution_count": 7,
   "metadata": {},
   "outputs": [],
   "source": [
    "df = df[df['Status'] == 'complete']"
   ]
  },
  {
   "cell_type": "markdown",
   "metadata": {},
   "source": [
    "REMOVING DUPLICATES"
   ]
  },
  {
   "cell_type": "code",
   "execution_count": 8,
   "metadata": {},
   "outputs": [
    {
     "data": {
      "application/vnd.microsoft.datawrangler.viewer.v0+json": {
       "columns": [
        {
         "name": "index",
         "rawType": "int64",
         "type": "integer"
        },
        {
         "name": "Customer",
         "rawType": "int64",
         "type": "integer"
        },
        {
         "name": "Purchase Date",
         "rawType": "object",
         "type": "string"
        },
        {
         "name": "Product",
         "rawType": "object",
         "type": "string"
        },
        {
         "name": "Price/Qty",
         "rawType": "float64",
         "type": "float"
        },
        {
         "name": "Price",
         "rawType": "float64",
         "type": "float"
        },
        {
         "name": "Quantity",
         "rawType": "int64",
         "type": "integer"
        },
        {
         "name": "Status",
         "rawType": "object",
         "type": "string"
        },
        {
         "name": "Unnamed: 7",
         "rawType": "float64",
         "type": "float"
        },
        {
         "name": "Unnamed: 8",
         "rawType": "float64",
         "type": "float"
        },
        {
         "name": "Unnamed: 9",
         "rawType": "float64",
         "type": "float"
        },
        {
         "name": "Unnamed: 10",
         "rawType": "float64",
         "type": "float"
        }
       ],
       "conversionMethod": "pd.DataFrame",
       "ref": "988274a2-3e3f-4b2b-abba-81dafc2c3e6f",
       "rows": [],
       "shape": {
        "columns": 11,
        "rows": 0
       }
      },
      "text/html": [
       "<div>\n",
       "<style scoped>\n",
       "    .dataframe tbody tr th:only-of-type {\n",
       "        vertical-align: middle;\n",
       "    }\n",
       "\n",
       "    .dataframe tbody tr th {\n",
       "        vertical-align: top;\n",
       "    }\n",
       "\n",
       "    .dataframe thead th {\n",
       "        text-align: right;\n",
       "    }\n",
       "</style>\n",
       "<table border=\"1\" class=\"dataframe\">\n",
       "  <thead>\n",
       "    <tr style=\"text-align: right;\">\n",
       "      <th></th>\n",
       "      <th>Customer</th>\n",
       "      <th>Purchase Date</th>\n",
       "      <th>Product</th>\n",
       "      <th>Price/Qty</th>\n",
       "      <th>Price</th>\n",
       "      <th>Quantity</th>\n",
       "      <th>Status</th>\n",
       "      <th>Unnamed: 7</th>\n",
       "      <th>Unnamed: 8</th>\n",
       "      <th>Unnamed: 9</th>\n",
       "      <th>Unnamed: 10</th>\n",
       "    </tr>\n",
       "  </thead>\n",
       "  <tbody>\n",
       "  </tbody>\n",
       "</table>\n",
       "</div>"
      ],
      "text/plain": [
       "Empty DataFrame\n",
       "Columns: [Customer, Purchase Date, Product, Price/Qty, Price, Quantity, Status, Unnamed: 7, Unnamed: 8, Unnamed: 9, Unnamed: 10]\n",
       "Index: []"
      ]
     },
     "execution_count": 8,
     "metadata": {},
     "output_type": "execute_result"
    }
   ],
   "source": [
    "df.duplicated().sum()\n",
    "df = df.drop_duplicates()\n",
    "df[df.duplicated(subset=['Customer', 'Purchase Date', 'Product', 'Status'], keep=False)]\n"
   ]
  },
  {
   "cell_type": "markdown",
   "metadata": {},
   "source": [
    "HANDLING OUTLIERS"
   ]
  },
  {
   "cell_type": "code",
   "execution_count": 9,
   "metadata": {},
   "outputs": [],
   "source": [
    "median_prices = df.groupby(['Product', 'Quantity'])['Price'].transform('median')\n",
    "\n",
    "df.loc[df['Price'] > 2 * median_prices, 'Price'] = median_prices  \n",
    "df.loc[df['Price'] < 0.5 * median_prices, 'Price'] = median_prices  "
   ]
  },
  {
   "cell_type": "code",
   "execution_count": 10,
   "metadata": {},
   "outputs": [
    {
     "name": "stdout",
     "output_type": "stream",
     "text": [
      "[ 9204 87654  4935 ...  2449 97331 63797]\n"
     ]
    }
   ],
   "source": [
    "affected_customers = df[df['Price'] != median_prices]['Customer'].unique()\n",
    "print(affected_customers)"
   ]
  },
  {
   "cell_type": "code",
   "execution_count": 11,
   "metadata": {},
   "outputs": [
    {
     "data": {
      "application/vnd.microsoft.datawrangler.viewer.v0+json": {
       "columns": [
        {
         "name": "index",
         "rawType": "int64",
         "type": "integer"
        },
        {
         "name": "Customer",
         "rawType": "int64",
         "type": "integer"
        },
        {
         "name": "Purchase Date",
         "rawType": "object",
         "type": "string"
        },
        {
         "name": "Product",
         "rawType": "object",
         "type": "string"
        },
        {
         "name": "Price/Qty",
         "rawType": "float64",
         "type": "float"
        },
        {
         "name": "Price",
         "rawType": "float64",
         "type": "float"
        },
        {
         "name": "Quantity",
         "rawType": "int64",
         "type": "integer"
        },
        {
         "name": "Status",
         "rawType": "object",
         "type": "string"
        },
        {
         "name": "Unnamed: 7",
         "rawType": "float64",
         "type": "float"
        },
        {
         "name": "Unnamed: 8",
         "rawType": "float64",
         "type": "float"
        },
        {
         "name": "Unnamed: 9",
         "rawType": "float64",
         "type": "float"
        },
        {
         "name": "Unnamed: 10",
         "rawType": "float64",
         "type": "float"
        },
        {
         "name": "Price_per_Unit",
         "rawType": "float64",
         "type": "float"
        }
       ],
       "conversionMethod": "pd.DataFrame",
       "ref": "d4291e77-d1c2-4e4a-8c27-13319c7db991",
       "rows": [
        [
         "6",
         "39608",
         "26/09/2024 11:16",
         "Panzer Corps 2: Axis Operations - 1944 PC - DLC",
         "47343.19",
         "47343.19",
         "1",
         "complete",
         null,
         null,
         null,
         null,
         "47343.19"
        ],
        [
         "7",
         "39608",
         "5/8/2024 4:30",
         "Imperial Glory PC",
         "16727.69",
         "16727.69",
         "1",
         "complete",
         null,
         null,
         null,
         null,
         "16727.69"
        ],
        [
         "29",
         "10260",
         "7/10/2024 1:46",
         "Sid Meier's Civilization VII Founders Edition PC",
         "186.89",
         "186.89",
         "1",
         "complete",
         null,
         null,
         null,
         null,
         "186.89"
        ],
        [
         "31",
         "86581",
         "26/04/2024 5:18",
         "WWE 2K24 40 Years of Wrestlemania Edition PC",
         "165.59",
         "165.59",
         "1",
         "complete",
         null,
         null,
         null,
         null,
         "165.59"
        ],
        [
         "39",
         "94338",
         "21/09/2024 0:47",
         "Star Wars Outlaws - Ultimate Edition PC (WW)",
         "161.89",
         "161.89",
         "1",
         "complete",
         null,
         null,
         null,
         null,
         "161.89"
        ],
        [
         "98",
         "90246",
         "22/09/2024 8:39",
         "NBA 2K25 All-Star Edition Xbox One & Xbox Series X|S (WW)",
         "142.49",
         "142.49",
         "1",
         "complete",
         null,
         null,
         null,
         null,
         "142.49"
        ],
        [
         "122",
         "63097",
         "2/5/2024 7:24",
         "NBA 2K20: Deluxe Edition Xbox One",
         "139.19",
         "139.19",
         "1",
         "complete",
         null,
         null,
         null,
         null,
         "139.19"
        ],
        [
         "154",
         "35904",
         "29/01/2024 22:12",
         "Suicide Squad: Kill the Justice League - Digital Deluxe Edition PC (Europe & North America)",
         "133.49",
         "133.49",
         "1",
         "complete",
         null,
         null,
         null,
         null,
         "133.49"
        ],
        [
         "160",
         "5321",
         "7/9/2024 2:44",
         "GUNDAM BREAKER 4 Ultimate Edition PC",
         "130.69",
         "130.69",
         "1",
         "complete",
         null,
         null,
         null,
         null,
         "130.69"
        ],
        [
         "194",
         "83279",
         "22/01/2024 7:17",
         "Call of Duty: Modern Warfare III - Vault Edition Xbox One & Xbox Series X|S (WW)",
         "128.49",
         "128.49",
         "1",
         "complete",
         null,
         null,
         null,
         null,
         "128.49"
        ],
        [
         "239",
         "48423",
         "7/8/2024 20:07",
         "S.T.A.L.K.E.R. 2: Heart of Chornobyl - Ultimate Edition PC (EU & North America)",
         "119.49",
         "119.49",
         "1",
         "complete",
         null,
         null,
         null,
         null,
         "119.49"
        ],
        [
         "245",
         "4935",
         "6/1/2024 23:16",
         "Cities: Skylines II - Ultimate Edition PC",
         "114.79",
         "114.79",
         "1",
         "complete",
         null,
         null,
         null,
         null,
         "114.79"
        ],
        [
         "247",
         "43752",
         "23/07/2024 4:39",
         "Microsoft Flight Simulator: Deluxe Edition - Windows 10 PC",
         "113.39",
         "113.39",
         "1",
         "complete",
         null,
         null,
         null,
         null,
         "113.39"
        ],
        [
         "249",
         "18988",
         "6/9/2024 19:02",
         "NBA 2K25 Standard Edition Xbox One & Xbox Series X|S (WW)",
         "113.19",
         "113.19",
         "1",
         "complete",
         null,
         null,
         null,
         null,
         "113.19"
        ],
        [
         "254",
         "97134",
         "30/01/2024 8:12",
         "TEKKEN 8 Xbox Series X|S (WW)",
         "112.29",
         "112.29",
         "1",
         "complete",
         null,
         null,
         null,
         null,
         "112.29"
        ],
        [
         "258",
         "8619",
         "4/9/2024 8:20",
         "GUNDAM BREAKER 4 Deluxe Edition PC",
         "111.49",
         "111.49",
         "1",
         "complete",
         null,
         null,
         null,
         null,
         "111.49"
        ],
        [
         "265",
         "241896",
         "30/12/2024 12:57",
         "Taiko no Tatsujin: Rhythm Festival The Setlist Edition PC",
         "111.09",
         "111.09",
         "1",
         "complete",
         null,
         null,
         null,
         null,
         "111.09"
        ],
        [
         "287",
         "80664",
         "25/05/2024 4:03",
         "F1 2020 Deluxe Schumacher Edition PC",
         "109.39",
         "109.39",
         "1",
         "complete",
         null,
         null,
         null,
         null,
         "109.39"
        ],
        [
         "292",
         "31255",
         "3/10/2024 6:06",
         "EA SPORTS FC 25 Standard Edition Xbox One & Xbox Series X|S (WW)",
         "108.59",
         "108.59",
         "1",
         "complete",
         null,
         null,
         null,
         null,
         "108.59"
        ],
        [
         "362",
         "20485",
         "1/7/2024 14:14",
         "The Elder Scrolls Online Deluxe Collection: Gold Road PC (Steam)",
         "103.49",
         "103.49",
         "1",
         "complete",
         null,
         null,
         null,
         null,
         "103.49"
        ],
        [
         "391",
         "68904",
         "26/02/2024 2:03",
         "Street Fighter 6 Deluxe Edition Xbox Series X|S (WW)",
         "101.99",
         "101.99",
         "1",
         "complete",
         null,
         null,
         null,
         null,
         "101.99"
        ],
        [
         "392",
         "28105",
         "10/2/2024 5:08",
         "Forza Motorsport Premium Edition Xbox Series X|S/PC (WW)",
         "101.99",
         "101.99",
         "1",
         "complete",
         null,
         null,
         null,
         null,
         "101.99"
        ],
        [
         "436",
         "41373",
         "5/12/2024 6:29",
         "Kingdom Come: Deliverance II Gold Edition PC",
         "98.69",
         "98.69",
         "1",
         "complete",
         null,
         null,
         null,
         null,
         "98.69"
        ],
        [
         "449",
         "87560",
         "20/05/2024 22:00",
         "Diablo IV - Digital Deluxe Edition Xbox One & Xbox Series X|S (WW)",
         "97.09",
         "97.09",
         "1",
         "complete",
         null,
         null,
         null,
         null,
         "97.09"
        ],
        [
         "522",
         "44732",
         "5/9/2024 7:59",
         "Test Drive Unlimited Solar Crown - Gold Edition PC",
         "89.59",
         "89.59",
         "1",
         "complete",
         null,
         null,
         null,
         null,
         "89.59"
        ],
        [
         "534",
         "74213",
         "17/02/2024 21:03",
         "TEKKEN 8 with Bonus PC",
         "89.49",
         "89.49",
         "1",
         "complete",
         null,
         null,
         null,
         null,
         "89.49"
        ],
        [
         "679",
         "68136",
         "7/3/2024 10:53",
         "Atomic Heart - Premium Edition PC",
         "85.89",
         "85.89",
         "1",
         "complete",
         null,
         null,
         null,
         null,
         "85.89"
        ],
        [
         "773",
         "61865",
         "31/08/2024 6:18",
         "NARUTO X BORUTO Ultimate Ninja STORM CONNECTIONS Ultimate Edition (Base Game Required) PC",
         "85.69",
         "85.69",
         "1",
         "complete",
         null,
         null,
         null,
         null,
         "85.69"
        ],
        [
         "997",
         "48423",
         "3/2/2024 12:30",
         "SAND LAND Deluxe Edition PC",
         "84.39",
         "84.39",
         "1",
         "complete",
         null,
         null,
         null,
         null,
         "84.39"
        ],
        [
         "1376",
         "20456",
         "28/12/2024 0:44",
         "Kingdom Come: Deliverance II PC",
         "81.59",
         "81.59",
         "1",
         "complete",
         null,
         null,
         null,
         null,
         "81.59"
        ],
        [
         "1401",
         "50323",
         "10/5/2024 4:14",
         "Call of Duty: Modern Warfare III - Cross-Gen Bundle Xbox One & Xbox Series X|S (US)",
         "81.39",
         "81.39",
         "1",
         "complete",
         null,
         null,
         null,
         null,
         "81.39"
        ],
        [
         "1405",
         "44236",
         "4/3/2024 4:37",
         "Expeditions: A MudRunner Game - Year 1 Edition PC",
         "81.19",
         "81.19",
         "1",
         "complete",
         null,
         null,
         null,
         null,
         "81.19"
        ],
        [
         "1483",
         "62331",
         "22/08/2024 20:33",
         "The Elder Scrolls Online Collection: Gold Road PC (Steam)",
         "80.39",
         "80.39",
         "1",
         "complete",
         null,
         null,
         null,
         null,
         "80.39"
        ],
        [
         "1560",
         "77275",
         "6/1/2024 2:29",
         "Dying Light 2 Stay Human Ultimate Edition PC",
         "80.09",
         "80.09",
         "1",
         "complete",
         null,
         null,
         null,
         null,
         "80.09"
        ],
        [
         "1607",
         "99236",
         "30/01/2024 10:13",
         "UNDER NIGHT IN-BIRTH II Sys:Celes Deluxe Edition PC",
         "79.09",
         "79.09",
         "1",
         "complete",
         null,
         null,
         null,
         null,
         "79.09"
        ],
        [
         "1620",
         "21981",
         "12/10/2024 8:12",
         "Persona 3 Reload Digital Deluxe Edition PC (WW)",
         "78.19",
         "78.19",
         "1",
         "complete",
         null,
         null,
         null,
         null,
         "78.19"
        ],
        [
         "1637",
         "30329",
         "22/03/2024 13:30",
         "Forza Motorsport Standard Edition Xbox Series X|S/PC (WW)",
         "77.09",
         "77.09",
         "1",
         "complete",
         null,
         null,
         null,
         null,
         "77.09"
        ],
        [
         "1723",
         "5215",
         "5/11/2024 12:41",
         "Empire of the Ants - Digital Deluxe Edition PC",
         "72.29",
         "72.29",
         "1",
         "complete",
         null,
         null,
         null,
         null,
         "72.29"
        ],
        [
         "1739",
         "4759",
         "11/7/2024 6:16",
         "X4: COMMUNITY OF PLANETS COLLECTOR'S EDITION PC (2024)",
         "71.69",
         "71.69",
         "1",
         "complete",
         null,
         null,
         null,
         null,
         "71.69"
        ],
        [
         "1763",
         "82881",
         "5/5/2024 0:34",
         "MotoGP 24 PC",
         "69.59",
         "69.59",
         "1",
         "complete",
         null,
         null,
         null,
         null,
         "69.59"
        ],
        [
         "1767",
         "14402",
         "23/01/2024 21:35",
         "PGA TOUR 2K23 Tiger Woods Edition Xbox One & Xbox Series X|S (WW)",
         "69.49",
         "69.49",
         "1",
         "complete",
         null,
         null,
         null,
         null,
         "69.49"
        ],
        [
         "1768",
         "99236",
         "13/01/2024 11:05",
         "Wo Long: Fallen Dynasty Digital Deluxe Edition PC ",
         "69.49",
         "69.49",
         "1",
         "complete",
         null,
         null,
         null,
         null,
         "69.49"
        ],
        [
         "1781",
         "13451",
         "30/08/2024 3:03",
         "Monster Jam Showdown PC",
         "68.59",
         "68.59",
         "1",
         "complete",
         null,
         null,
         null,
         null,
         "68.59"
        ],
        [
         "1792",
         "6698",
         "18/06/2024 9:26",
         "Call of Duty WWII - Digital Deluxe Xbox (WW)",
         "67.99",
         "67.99",
         "1",
         "complete",
         null,
         null,
         null,
         null,
         "67.99"
        ],
        [
         "1876",
         "99236",
         "4/6/2024 1:36",
         "SaGa Emerald Beyond PC",
         "65.59",
         "65.59",
         "1",
         "complete",
         null,
         null,
         null,
         null,
         "65.59"
        ],
        [
         "1903",
         "10316",
         "21/05/2024 20:37",
         "Senua's Saga: Hellblade II Xbox Series X|S/PC (WW)",
         "65.49",
         "65.49",
         "1",
         "complete",
         null,
         null,
         null,
         null,
         "65.49"
        ],
        [
         "1904",
         "93820",
         "29/06/2024 2:19",
         "S.T.A.L.K.E.R. 2: Heart of Chornobyl PC (EU & North America)",
         "65.49",
         "65.49",
         "1",
         "complete",
         null,
         null,
         null,
         null,
         "65.49"
        ],
        [
         "2023",
         "10043",
         "11/3/2024 7:08",
         "CRISIS CORE –FINAL FANTASY VII– REUNION DIGITAL DELUXE EDITION PC (WW)",
         "62.49",
         "62.49",
         "1",
         "complete",
         null,
         null,
         null,
         null,
         "62.49"
        ],
        [
         "2030",
         "82042",
         "16/06/2024 21:27",
         "Forspoken Digital Deluxe Edition PC",
         "62.39",
         "62.39",
         "1",
         "complete",
         null,
         null,
         null,
         null,
         "62.39"
        ],
        [
         "2036",
         "5371",
         "17/02/2024 11:10",
         "NBA 2K24 Black Mamba Edition Bonus PC (WW)",
         "62.39",
         "62.39",
         "1",
         "complete",
         null,
         null,
         null,
         null,
         "62.39"
        ]
       ],
       "shape": {
        "columns": 12,
        "rows": 799
       }
      },
      "text/html": [
       "<div>\n",
       "<style scoped>\n",
       "    .dataframe tbody tr th:only-of-type {\n",
       "        vertical-align: middle;\n",
       "    }\n",
       "\n",
       "    .dataframe tbody tr th {\n",
       "        vertical-align: top;\n",
       "    }\n",
       "\n",
       "    .dataframe thead th {\n",
       "        text-align: right;\n",
       "    }\n",
       "</style>\n",
       "<table border=\"1\" class=\"dataframe\">\n",
       "  <thead>\n",
       "    <tr style=\"text-align: right;\">\n",
       "      <th></th>\n",
       "      <th>Customer</th>\n",
       "      <th>Purchase Date</th>\n",
       "      <th>Product</th>\n",
       "      <th>Price/Qty</th>\n",
       "      <th>Price</th>\n",
       "      <th>Quantity</th>\n",
       "      <th>Status</th>\n",
       "      <th>Unnamed: 7</th>\n",
       "      <th>Unnamed: 8</th>\n",
       "      <th>Unnamed: 9</th>\n",
       "      <th>Unnamed: 10</th>\n",
       "      <th>Price_per_Unit</th>\n",
       "    </tr>\n",
       "  </thead>\n",
       "  <tbody>\n",
       "    <tr>\n",
       "      <th>6</th>\n",
       "      <td>39608</td>\n",
       "      <td>26/09/2024 11:16</td>\n",
       "      <td>Panzer Corps 2: Axis Operations - 1944 PC - DLC</td>\n",
       "      <td>47343.19</td>\n",
       "      <td>47343.19</td>\n",
       "      <td>1</td>\n",
       "      <td>complete</td>\n",
       "      <td>NaN</td>\n",
       "      <td>NaN</td>\n",
       "      <td>NaN</td>\n",
       "      <td>NaN</td>\n",
       "      <td>47343.19</td>\n",
       "    </tr>\n",
       "    <tr>\n",
       "      <th>7</th>\n",
       "      <td>39608</td>\n",
       "      <td>5/8/2024 4:30</td>\n",
       "      <td>Imperial Glory PC</td>\n",
       "      <td>16727.69</td>\n",
       "      <td>16727.69</td>\n",
       "      <td>1</td>\n",
       "      <td>complete</td>\n",
       "      <td>NaN</td>\n",
       "      <td>NaN</td>\n",
       "      <td>NaN</td>\n",
       "      <td>NaN</td>\n",
       "      <td>16727.69</td>\n",
       "    </tr>\n",
       "    <tr>\n",
       "      <th>29</th>\n",
       "      <td>10260</td>\n",
       "      <td>7/10/2024 1:46</td>\n",
       "      <td>Sid Meier's Civilization VII Founders Edition PC</td>\n",
       "      <td>186.89</td>\n",
       "      <td>186.89</td>\n",
       "      <td>1</td>\n",
       "      <td>complete</td>\n",
       "      <td>NaN</td>\n",
       "      <td>NaN</td>\n",
       "      <td>NaN</td>\n",
       "      <td>NaN</td>\n",
       "      <td>186.89</td>\n",
       "    </tr>\n",
       "    <tr>\n",
       "      <th>31</th>\n",
       "      <td>86581</td>\n",
       "      <td>26/04/2024 5:18</td>\n",
       "      <td>WWE 2K24 40 Years of Wrestlemania Edition PC</td>\n",
       "      <td>165.59</td>\n",
       "      <td>165.59</td>\n",
       "      <td>1</td>\n",
       "      <td>complete</td>\n",
       "      <td>NaN</td>\n",
       "      <td>NaN</td>\n",
       "      <td>NaN</td>\n",
       "      <td>NaN</td>\n",
       "      <td>165.59</td>\n",
       "    </tr>\n",
       "    <tr>\n",
       "      <th>39</th>\n",
       "      <td>94338</td>\n",
       "      <td>21/09/2024 0:47</td>\n",
       "      <td>Star Wars Outlaws - Ultimate Edition PC (WW)</td>\n",
       "      <td>161.89</td>\n",
       "      <td>161.89</td>\n",
       "      <td>1</td>\n",
       "      <td>complete</td>\n",
       "      <td>NaN</td>\n",
       "      <td>NaN</td>\n",
       "      <td>NaN</td>\n",
       "      <td>NaN</td>\n",
       "      <td>161.89</td>\n",
       "    </tr>\n",
       "    <tr>\n",
       "      <th>...</th>\n",
       "      <td>...</td>\n",
       "      <td>...</td>\n",
       "      <td>...</td>\n",
       "      <td>...</td>\n",
       "      <td>...</td>\n",
       "      <td>...</td>\n",
       "      <td>...</td>\n",
       "      <td>...</td>\n",
       "      <td>...</td>\n",
       "      <td>...</td>\n",
       "      <td>...</td>\n",
       "      <td>...</td>\n",
       "    </tr>\n",
       "    <tr>\n",
       "      <th>14222</th>\n",
       "      <td>82578</td>\n",
       "      <td>22/09/2024 20:55</td>\n",
       "      <td>Alice in Wonderland - Hidden Objects PC</td>\n",
       "      <td>0.89</td>\n",
       "      <td>0.89</td>\n",
       "      <td>1</td>\n",
       "      <td>complete</td>\n",
       "      <td>NaN</td>\n",
       "      <td>NaN</td>\n",
       "      <td>NaN</td>\n",
       "      <td>NaN</td>\n",
       "      <td>0.89</td>\n",
       "    </tr>\n",
       "    <tr>\n",
       "      <th>14224</th>\n",
       "      <td>37547</td>\n",
       "      <td>7/9/2024 7:15</td>\n",
       "      <td>Diluvian Utra PC</td>\n",
       "      <td>0.79</td>\n",
       "      <td>0.79</td>\n",
       "      <td>1</td>\n",
       "      <td>complete</td>\n",
       "      <td>NaN</td>\n",
       "      <td>NaN</td>\n",
       "      <td>NaN</td>\n",
       "      <td>NaN</td>\n",
       "      <td>0.79</td>\n",
       "    </tr>\n",
       "    <tr>\n",
       "      <th>14229</th>\n",
       "      <td>6791</td>\n",
       "      <td>30/04/2024 13:09</td>\n",
       "      <td>Tropico Reloaded PC</td>\n",
       "      <td>0.79</td>\n",
       "      <td>0.79</td>\n",
       "      <td>1</td>\n",
       "      <td>complete</td>\n",
       "      <td>NaN</td>\n",
       "      <td>NaN</td>\n",
       "      <td>NaN</td>\n",
       "      <td>NaN</td>\n",
       "      <td>0.79</td>\n",
       "    </tr>\n",
       "    <tr>\n",
       "      <th>14240</th>\n",
       "      <td>89156</td>\n",
       "      <td>7/12/2024 7:25</td>\n",
       "      <td>Snowtopia: Ski Resort Tycoon PC</td>\n",
       "      <td>0.59</td>\n",
       "      <td>0.59</td>\n",
       "      <td>1</td>\n",
       "      <td>complete</td>\n",
       "      <td>NaN</td>\n",
       "      <td>NaN</td>\n",
       "      <td>NaN</td>\n",
       "      <td>NaN</td>\n",
       "      <td>0.59</td>\n",
       "    </tr>\n",
       "    <tr>\n",
       "      <th>14244</th>\n",
       "      <td>90292</td>\n",
       "      <td>18/09/2024 11:54</td>\n",
       "      <td>All You Can Eat PC</td>\n",
       "      <td>0.39</td>\n",
       "      <td>0.39</td>\n",
       "      <td>1</td>\n",
       "      <td>complete</td>\n",
       "      <td>NaN</td>\n",
       "      <td>NaN</td>\n",
       "      <td>NaN</td>\n",
       "      <td>NaN</td>\n",
       "      <td>0.39</td>\n",
       "    </tr>\n",
       "  </tbody>\n",
       "</table>\n",
       "<p>799 rows × 12 columns</p>\n",
       "</div>"
      ],
      "text/plain": [
       "       Customer     Purchase Date  \\\n",
       "6         39608  26/09/2024 11:16   \n",
       "7         39608     5/8/2024 4:30   \n",
       "29        10260    7/10/2024 1:46   \n",
       "31        86581   26/04/2024 5:18   \n",
       "39        94338   21/09/2024 0:47   \n",
       "...         ...               ...   \n",
       "14222     82578  22/09/2024 20:55   \n",
       "14224     37547     7/9/2024 7:15   \n",
       "14229      6791  30/04/2024 13:09   \n",
       "14240     89156    7/12/2024 7:25   \n",
       "14244     90292  18/09/2024 11:54   \n",
       "\n",
       "                                                Product  Price/Qty     Price  \\\n",
       "6       Panzer Corps 2: Axis Operations - 1944 PC - DLC   47343.19  47343.19   \n",
       "7                                     Imperial Glory PC   16727.69  16727.69   \n",
       "29     Sid Meier's Civilization VII Founders Edition PC     186.89    186.89   \n",
       "31         WWE 2K24 40 Years of Wrestlemania Edition PC     165.59    165.59   \n",
       "39         Star Wars Outlaws - Ultimate Edition PC (WW)     161.89    161.89   \n",
       "...                                                 ...        ...       ...   \n",
       "14222           Alice in Wonderland - Hidden Objects PC       0.89      0.89   \n",
       "14224                                  Diluvian Utra PC       0.79      0.79   \n",
       "14229                               Tropico Reloaded PC       0.79      0.79   \n",
       "14240                   Snowtopia: Ski Resort Tycoon PC       0.59      0.59   \n",
       "14244                                All You Can Eat PC       0.39      0.39   \n",
       "\n",
       "       Quantity    Status  Unnamed: 7  Unnamed: 8  Unnamed: 9  Unnamed: 10  \\\n",
       "6             1  complete         NaN         NaN         NaN          NaN   \n",
       "7             1  complete         NaN         NaN         NaN          NaN   \n",
       "29            1  complete         NaN         NaN         NaN          NaN   \n",
       "31            1  complete         NaN         NaN         NaN          NaN   \n",
       "39            1  complete         NaN         NaN         NaN          NaN   \n",
       "...         ...       ...         ...         ...         ...          ...   \n",
       "14222         1  complete         NaN         NaN         NaN          NaN   \n",
       "14224         1  complete         NaN         NaN         NaN          NaN   \n",
       "14229         1  complete         NaN         NaN         NaN          NaN   \n",
       "14240         1  complete         NaN         NaN         NaN          NaN   \n",
       "14244         1  complete         NaN         NaN         NaN          NaN   \n",
       "\n",
       "       Price_per_Unit  \n",
       "6            47343.19  \n",
       "7            16727.69  \n",
       "29             186.89  \n",
       "31             165.59  \n",
       "39             161.89  \n",
       "...               ...  \n",
       "14222            0.89  \n",
       "14224            0.79  \n",
       "14229            0.79  \n",
       "14240            0.59  \n",
       "14244            0.39  \n",
       "\n",
       "[799 rows x 12 columns]"
      ]
     },
     "execution_count": 11,
     "metadata": {},
     "output_type": "execute_result"
    }
   ],
   "source": [
    "\n",
    "df['Price_per_Unit'] = df['Price'] / df['Quantity']\n",
    "\n",
    "single_occurrence_products = df['Product'].value_counts()[df['Product'].value_counts() == 1].index\n",
    "\n",
    "df[df['Product'].isin(single_occurrence_products)]\n"
   ]
  },
  {
   "cell_type": "code",
   "execution_count": 12,
   "metadata": {},
   "outputs": [],
   "source": [
    "df.groupby('Product')['Price_per_Unit'].median()\n",
    "\n",
    "median_price_per_unit = df[df['Product'].isin(single_occurrence_products) == False].groupby('Product')['Price_per_Unit'].median()\n",
    "\n",
    "\n",
    "for product in single_occurrence_products:\n",
    "    df.loc[df['Product'] == product, 'Price'] = median_price_per_unit.get(product, df['Price'].median()) * df['Quantity']\n"
   ]
  },
  {
   "cell_type": "code",
   "execution_count": 13,
   "metadata": {},
   "outputs": [
    {
     "data": {
      "application/vnd.microsoft.datawrangler.viewer.v0+json": {
       "columns": [
        {
         "name": "('Product', 'Quantity')",
         "rawType": "object",
         "type": "unknown"
        },
        {
         "name": "count",
         "rawType": "float64",
         "type": "float"
        },
        {
         "name": "mean",
         "rawType": "float64",
         "type": "float"
        },
        {
         "name": "std",
         "rawType": "float64",
         "type": "float"
        },
        {
         "name": "min",
         "rawType": "float64",
         "type": "float"
        },
        {
         "name": "25%",
         "rawType": "float64",
         "type": "float"
        },
        {
         "name": "50%",
         "rawType": "float64",
         "type": "float"
        },
        {
         "name": "75%",
         "rawType": "float64",
         "type": "float"
        },
        {
         "name": "max",
         "rawType": "float64",
         "type": "float"
        }
       ],
       "conversionMethod": "pd.DataFrame",
       "ref": "e714c345-3c83-4a78-907c-7692227c4d1d",
       "rows": [
        [
         "(' PERSONA 5 ROYAL PC', np.int64(1))",
         "29.0",
         "48.09",
         "8.632124386764326",
         "27.99",
         "42.09",
         "47.79",
         "53.59",
         "68.49"
        ],
        [
         "(' X Rebirth VR Edition PC', np.int64(1))",
         "1.0",
         "19.59",
         null,
         "19.59",
         "19.59",
         "19.59",
         "19.59",
         "19.59"
        ],
        [
         "('.hack//G.U. Last Recode PC', np.int64(1))",
         "1.0",
         "19.59",
         null,
         "19.59",
         "19.59",
         "19.59",
         "19.59",
         "19.59"
        ],
        [
         "('3DMark PC', np.int64(1))",
         "9.0",
         "10.123333333333333",
         "0.6576473218982953",
         "9.09",
         "9.39",
         "10.49",
         "10.59",
         "10.69"
        ],
        [
         "('60 Parsecs! PC', np.int64(1))",
         "1.0",
         "19.59",
         null,
         "19.59",
         "19.59",
         "19.59",
         "19.59",
         "19.59"
        ],
        [
         "('7 Days to Die PC', np.int64(1))",
         "65.0",
         "24.808461538461536",
         "4.768513012056678",
         "17.49",
         "22.09",
         "22.09",
         "29.19",
         "34.89"
        ],
        [
         "('7 Days to Die PC', np.int64(2))",
         "1.0",
         "59.98",
         null,
         "59.98",
         "59.98",
         "59.98",
         "59.98",
         "59.98"
        ],
        [
         "('7 Days to Die PC', np.int64(3))",
         "1.0",
         "17.37",
         null,
         "17.37",
         "17.37",
         "17.37",
         "17.37",
         "17.37"
        ],
        [
         "('A Game of Thrones: The Board Game - Digital Edition PC', np.int64(1))",
         "1.0",
         "19.59",
         null,
         "19.59",
         "19.59",
         "19.59",
         "19.59",
         "19.59"
        ],
        [
         "('A Little to the Left PC', np.int64(1))",
         "4.0",
         "13.389999999999999",
         "0.2581988897471611",
         "13.09",
         "13.239999999999998",
         "13.39",
         "13.54",
         "13.69"
        ],
        [
         "('A Plague Tale: Innocence PC', np.int64(1))",
         "3.0",
         "10.523333333333333",
         "1.6258331197676263",
         "8.69",
         "9.89",
         "11.09",
         "11.44",
         "11.79"
        ],
        [
         "('A Plague Tale: Requiem PC', np.int64(1))",
         "13.0",
         "12.751538461538463",
         "1.909859707560768",
         "7.19",
         "12.89",
         "13.19",
         "13.59",
         "15.29"
        ],
        [
         "('A Way Out PC', np.int64(2))",
         "1.0",
         "39.18",
         null,
         "39.18",
         "39.18",
         "39.18",
         "39.18",
         "39.18"
        ],
        [
         "('ABZU PC', np.int64(1))",
         "1.0",
         "19.59",
         null,
         "19.59",
         "19.59",
         "19.59",
         "19.59",
         "19.59"
        ],
        [
         "('ACE COMBAT 7: SKIES UNKNOWN - TOP GUN: Maverick Ultimate Edition PC', np.int64(1))",
         "3.0",
         "27.223333333333333",
         "1.8823743871327343",
         "25.99",
         "26.14",
         "26.29",
         "27.84",
         "29.39"
        ],
        [
         "('ADR1FT PC', np.int64(1))",
         "1.0",
         "19.59",
         null,
         "19.59",
         "19.59",
         "19.59",
         "19.59",
         "19.59"
        ],
        [
         "('AEW: Fight Forever PC', np.int64(1))",
         "1.0",
         "19.59",
         null,
         "19.59",
         "19.59",
         "19.59",
         "19.59",
         "19.59"
        ],
        [
         "('ALONE IN THE DARK - DIGITAL DELUXE EDITION PC', np.int64(1))",
         "2.0",
         "83.09",
         "0.7071067811865476",
         "82.59",
         "82.84",
         "83.09",
         "83.34",
         "83.59"
        ],
        [
         "('AO Tennis 2 PC', np.int64(1))",
         "1.0",
         "19.59",
         null,
         "19.59",
         "19.59",
         "19.59",
         "19.59",
         "19.59"
        ],
        [
         "('ARMORED CORE VI FIRES OF RUBICON Deluxe Edition PC', np.int64(1))",
         "6.0",
         "61.55666666666667",
         "3.9611446157224144",
         "56.99",
         "57.965",
         "62.14",
         "64.965",
         "65.59"
        ],
        [
         "('ARMORED CORE VI FIRES OF RUBICON PC', np.int64(1))",
         "39.0",
         "52.93615384615384",
         "9.659733192181323",
         "26.99",
         "49.34",
         "52.79",
         "55.19",
         "86.39"
        ],
        [
         "('ARMORED CORE VI FIRES OF RUBICON PC', np.int64(2))",
         "1.0",
         "113.18",
         null,
         "113.18",
         "113.18",
         "113.18",
         "113.18",
         "113.18"
        ],
        [
         "('ASTRONEER PC', np.int64(1))",
         "2.0",
         "30.090000000000003",
         "7.778174593052025",
         "24.59",
         "27.34",
         "30.090000000000003",
         "32.84",
         "35.59"
        ],
        [
         "('Abiotic Factor PC', np.int64(1))",
         "13.0",
         "26.197692307692307",
         "4.327328186163978",
         "19.69",
         "21.49",
         "29.49",
         "29.69",
         "29.99"
        ],
        [
         "('Abiotic Factor PC', np.int64(2))",
         "1.0",
         "58.98",
         null,
         "58.98",
         "58.98",
         "58.98",
         "58.98",
         "58.98"
        ],
        [
         "('Above Snakes PC', np.int64(1))",
         "2.0",
         "6.34",
         "0.0707106781186545",
         "6.29",
         "6.3149999999999995",
         "6.34",
         "6.365",
         "6.39"
        ],
        [
         "('Absolver PC', np.int64(1))",
         "2.0",
         "7.540000000000001",
         "1.2020815280171309",
         "6.69",
         "7.115",
         "7.540000000000001",
         "7.965000000000001",
         "8.39"
        ],
        [
         "('Accel World VS. Sword Art Online - Deluxe Edition PC', np.int64(1))",
         "1.0",
         "19.59",
         null,
         "19.59",
         "19.59",
         "19.59",
         "19.59",
         "19.59"
        ],
        [
         "('Acceleration of SUGURI 2 PC', np.int64(1))",
         "1.0",
         "19.59",
         null,
         "19.59",
         "19.59",
         "19.59",
         "19.59",
         "19.59"
        ],
        [
         "('Ace Combat 7: Skies Unknown PC', np.int64(1))",
         "6.0",
         "11.456666666666665",
         "1.6058227382456216",
         "9.69",
         "10.065000000000001",
         "11.39",
         "12.865",
         "13.29"
        ],
        [
         "('Aces & Adventures PC', np.int64(1))",
         "2.0",
         "1.34",
         "0.3535533905932738",
         "1.09",
         "1.215",
         "1.34",
         "1.465",
         "1.59"
        ],
        [
         "('Ad Infinitum Standard Edition PC', np.int64(1))",
         "4.0",
         "4.015",
         "0.4856267428111155",
         "3.29",
         "3.9650000000000003",
         "4.24",
         "4.29",
         "4.29"
        ],
        [
         "('After the Fall - Launch Edition PC', np.int64(1))",
         "1.0",
         "19.59",
         null,
         "19.59",
         "19.59",
         "19.59",
         "19.59",
         "19.59"
        ],
        [
         "('Afterimage PC', np.int64(1))",
         "2.0",
         "2.24",
         "0.07071067811865482",
         "2.19",
         "2.215",
         "2.24",
         "2.265",
         "2.29"
        ],
        [
         "('Against the Storm PC', np.int64(1))",
         "1.0",
         "19.59",
         null,
         "19.59",
         "19.59",
         "19.59",
         "19.59",
         "19.59"
        ],
        [
         "('Age of Empires II: Definitive Edition PC', np.int64(1))",
         "30.0",
         "7.703333333333332",
         "0.8122906449996966",
         "4.49",
         "7.49",
         "7.79",
         "7.79",
         "10.49"
        ],
        [
         "('Age of Empires II: Definitive Edition PC', np.int64(3))",
         "1.0",
         "23.97",
         null,
         "23.97",
         "23.97",
         "23.97",
         "23.97",
         "23.97"
        ],
        [
         "('Age of Empires III: Definitive Edition PC', np.int64(1))",
         "11.0",
         "7.9445454545454535",
         "0.5820028116145769",
         "6.69",
         "7.54",
         "8.19",
         "8.34",
         "8.59"
        ],
        [
         "('Age of Empires IV: Anniversary Edition PC', np.int64(1))",
         "18.0",
         "28.423333333333332",
         "2.326319992151199",
         "26.19",
         "26.615",
         "27.990000000000002",
         "28.69",
         "35.19"
        ],
        [
         "('Age of Empires IV: Anniversary Edition PC', np.int64(2))",
         "1.0",
         "56.18",
         null,
         "56.18",
         "56.18",
         "56.18",
         "56.18",
         "56.18"
        ],
        [
         "('Age of Empires: Definitive Edition PC', np.int64(1))",
         "4.0",
         "4.965",
         "1.9855729651664782",
         "3.49",
         "3.49",
         "4.34",
         "5.815",
         "7.69"
        ],
        [
         "('Age of Mythology EX plus Tale of the Dragon PC', np.int64(1))",
         "1.0",
         "19.59",
         null,
         "19.59",
         "19.59",
         "19.59",
         "19.59",
         "19.59"
        ],
        [
         "('Age of Mythology: Extended Edition PC', np.int64(1))",
         "1.0",
         "19.59",
         null,
         "19.59",
         "19.59",
         "19.59",
         "19.59",
         "19.59"
        ],
        [
         "('Age of Mythology: Retold PC (STEAM)', np.int64(1))",
         "6.0",
         "39.931666666666665",
         "1.6608481768863366",
         "36.79",
         "39.727500000000006",
         "40.415",
         "40.99",
         "41.29"
        ],
        [
         "('Age of Mythology: Retold Premium Edition PC (STEAM)', np.int64(1))",
         "4.0",
         "66.84",
         "1.905255888325766",
         "65.19",
         "66.015",
         "66.29",
         "67.11500000000001",
         "69.59"
        ],
        [
         "('Age of Wonders 4 PC', np.int64(1))",
         "1.0",
         "19.59",
         null,
         "19.59",
         "19.59",
         "19.59",
         "19.59",
         "19.59"
        ],
        [
         "('Age of Wonders 4: Premium Edition PC', np.int64(1))",
         "2.0",
         "98.89",
         "3.5355339059327378",
         "96.39",
         "97.64",
         "98.89",
         "100.14",
         "101.39"
        ],
        [
         "('Akimbot PC', np.int64(1))",
         "1.0",
         "19.59",
         null,
         "19.59",
         "19.59",
         "19.59",
         "19.59",
         "19.59"
        ],
        [
         "(\"Alan Wake Collector's Edition PC\", np.int64(1))",
         "8.0",
         "7.0775",
         "1.7683224495872594",
         "5.59",
         "6.115",
         "6.34",
         "7.24",
         "10.49"
        ],
        [
         "(\"Alan Wake's American Nightmare PC\", np.int64(1))",
         "3.0",
         "3.89",
         "0.0",
         "3.89",
         "3.89",
         "3.89",
         "3.89",
         "3.89"
        ]
       ],
       "shape": {
        "columns": 8,
        "rows": 1986
       }
      },
      "text/html": [
       "<div>\n",
       "<style scoped>\n",
       "    .dataframe tbody tr th:only-of-type {\n",
       "        vertical-align: middle;\n",
       "    }\n",
       "\n",
       "    .dataframe tbody tr th {\n",
       "        vertical-align: top;\n",
       "    }\n",
       "\n",
       "    .dataframe thead th {\n",
       "        text-align: right;\n",
       "    }\n",
       "</style>\n",
       "<table border=\"1\" class=\"dataframe\">\n",
       "  <thead>\n",
       "    <tr style=\"text-align: right;\">\n",
       "      <th></th>\n",
       "      <th></th>\n",
       "      <th>count</th>\n",
       "      <th>mean</th>\n",
       "      <th>std</th>\n",
       "      <th>min</th>\n",
       "      <th>25%</th>\n",
       "      <th>50%</th>\n",
       "      <th>75%</th>\n",
       "      <th>max</th>\n",
       "    </tr>\n",
       "    <tr>\n",
       "      <th>Product</th>\n",
       "      <th>Quantity</th>\n",
       "      <th></th>\n",
       "      <th></th>\n",
       "      <th></th>\n",
       "      <th></th>\n",
       "      <th></th>\n",
       "      <th></th>\n",
       "      <th></th>\n",
       "      <th></th>\n",
       "    </tr>\n",
       "  </thead>\n",
       "  <tbody>\n",
       "    <tr>\n",
       "      <th>PERSONA 5 ROYAL PC</th>\n",
       "      <th>1</th>\n",
       "      <td>29.0</td>\n",
       "      <td>48.090000</td>\n",
       "      <td>8.632124</td>\n",
       "      <td>27.99</td>\n",
       "      <td>42.090</td>\n",
       "      <td>47.79</td>\n",
       "      <td>53.590</td>\n",
       "      <td>68.49</td>\n",
       "    </tr>\n",
       "    <tr>\n",
       "      <th>X Rebirth VR Edition PC</th>\n",
       "      <th>1</th>\n",
       "      <td>1.0</td>\n",
       "      <td>19.590000</td>\n",
       "      <td>NaN</td>\n",
       "      <td>19.59</td>\n",
       "      <td>19.590</td>\n",
       "      <td>19.59</td>\n",
       "      <td>19.590</td>\n",
       "      <td>19.59</td>\n",
       "    </tr>\n",
       "    <tr>\n",
       "      <th>.hack//G.U. Last Recode PC</th>\n",
       "      <th>1</th>\n",
       "      <td>1.0</td>\n",
       "      <td>19.590000</td>\n",
       "      <td>NaN</td>\n",
       "      <td>19.59</td>\n",
       "      <td>19.590</td>\n",
       "      <td>19.59</td>\n",
       "      <td>19.590</td>\n",
       "      <td>19.59</td>\n",
       "    </tr>\n",
       "    <tr>\n",
       "      <th>3DMark PC</th>\n",
       "      <th>1</th>\n",
       "      <td>9.0</td>\n",
       "      <td>10.123333</td>\n",
       "      <td>0.657647</td>\n",
       "      <td>9.09</td>\n",
       "      <td>9.390</td>\n",
       "      <td>10.49</td>\n",
       "      <td>10.590</td>\n",
       "      <td>10.69</td>\n",
       "    </tr>\n",
       "    <tr>\n",
       "      <th>60 Parsecs! PC</th>\n",
       "      <th>1</th>\n",
       "      <td>1.0</td>\n",
       "      <td>19.590000</td>\n",
       "      <td>NaN</td>\n",
       "      <td>19.59</td>\n",
       "      <td>19.590</td>\n",
       "      <td>19.59</td>\n",
       "      <td>19.590</td>\n",
       "      <td>19.59</td>\n",
       "    </tr>\n",
       "    <tr>\n",
       "      <th>...</th>\n",
       "      <th>...</th>\n",
       "      <td>...</td>\n",
       "      <td>...</td>\n",
       "      <td>...</td>\n",
       "      <td>...</td>\n",
       "      <td>...</td>\n",
       "      <td>...</td>\n",
       "      <td>...</td>\n",
       "      <td>...</td>\n",
       "    </tr>\n",
       "    <tr>\n",
       "      <th>[NINJA GAIDEN: Master Collection] NINJA GAIDEN Σ PC</th>\n",
       "      <th>1</th>\n",
       "      <td>1.0</td>\n",
       "      <td>19.590000</td>\n",
       "      <td>NaN</td>\n",
       "      <td>19.59</td>\n",
       "      <td>19.590</td>\n",
       "      <td>19.59</td>\n",
       "      <td>19.590</td>\n",
       "      <td>19.59</td>\n",
       "    </tr>\n",
       "    <tr>\n",
       "      <th rowspan=\"2\" valign=\"top\">rFactor 2 PC</th>\n",
       "      <th>1</th>\n",
       "      <td>8.0</td>\n",
       "      <td>4.377500</td>\n",
       "      <td>0.990581</td>\n",
       "      <td>2.39</td>\n",
       "      <td>3.940</td>\n",
       "      <td>4.64</td>\n",
       "      <td>5.065</td>\n",
       "      <td>5.29</td>\n",
       "    </tr>\n",
       "    <tr>\n",
       "      <th>2</th>\n",
       "      <td>1.0</td>\n",
       "      <td>8.980000</td>\n",
       "      <td>NaN</td>\n",
       "      <td>8.98</td>\n",
       "      <td>8.980</td>\n",
       "      <td>8.98</td>\n",
       "      <td>8.980</td>\n",
       "      <td>8.98</td>\n",
       "    </tr>\n",
       "    <tr>\n",
       "      <th rowspan=\"2\" valign=\"top\">theHunter: Call of the Wild PC</th>\n",
       "      <th>1</th>\n",
       "      <td>8.0</td>\n",
       "      <td>9.740000</td>\n",
       "      <td>3.600000</td>\n",
       "      <td>5.89</td>\n",
       "      <td>6.665</td>\n",
       "      <td>9.59</td>\n",
       "      <td>11.365</td>\n",
       "      <td>15.89</td>\n",
       "    </tr>\n",
       "    <tr>\n",
       "      <th>2</th>\n",
       "      <td>1.0</td>\n",
       "      <td>11.980000</td>\n",
       "      <td>NaN</td>\n",
       "      <td>11.98</td>\n",
       "      <td>11.980</td>\n",
       "      <td>11.98</td>\n",
       "      <td>11.980</td>\n",
       "      <td>11.98</td>\n",
       "    </tr>\n",
       "  </tbody>\n",
       "</table>\n",
       "<p>1986 rows × 8 columns</p>\n",
       "</div>"
      ],
      "text/plain": [
       "                                                             count       mean  \\\n",
       "Product                                            Quantity                     \n",
       " PERSONA 5 ROYAL PC                                1          29.0  48.090000   \n",
       " X Rebirth VR Edition PC                           1           1.0  19.590000   \n",
       ".hack//G.U. Last Recode PC                         1           1.0  19.590000   \n",
       "3DMark PC                                          1           9.0  10.123333   \n",
       "60 Parsecs! PC                                     1           1.0  19.590000   \n",
       "...                                                            ...        ...   \n",
       "[NINJA GAIDEN: Master Collection] NINJA GAIDEN ... 1           1.0  19.590000   \n",
       "rFactor 2 PC                                       1           8.0   4.377500   \n",
       "                                                   2           1.0   8.980000   \n",
       "theHunter: Call of the Wild PC                     1           8.0   9.740000   \n",
       "                                                   2           1.0  11.980000   \n",
       "\n",
       "                                                                  std    min  \\\n",
       "Product                                            Quantity                    \n",
       " PERSONA 5 ROYAL PC                                1         8.632124  27.99   \n",
       " X Rebirth VR Edition PC                           1              NaN  19.59   \n",
       ".hack//G.U. Last Recode PC                         1              NaN  19.59   \n",
       "3DMark PC                                          1         0.657647   9.09   \n",
       "60 Parsecs! PC                                     1              NaN  19.59   \n",
       "...                                                               ...    ...   \n",
       "[NINJA GAIDEN: Master Collection] NINJA GAIDEN ... 1              NaN  19.59   \n",
       "rFactor 2 PC                                       1         0.990581   2.39   \n",
       "                                                   2              NaN   8.98   \n",
       "theHunter: Call of the Wild PC                     1         3.600000   5.89   \n",
       "                                                   2              NaN  11.98   \n",
       "\n",
       "                                                                25%    50%  \\\n",
       "Product                                            Quantity                  \n",
       " PERSONA 5 ROYAL PC                                1         42.090  47.79   \n",
       " X Rebirth VR Edition PC                           1         19.590  19.59   \n",
       ".hack//G.U. Last Recode PC                         1         19.590  19.59   \n",
       "3DMark PC                                          1          9.390  10.49   \n",
       "60 Parsecs! PC                                     1         19.590  19.59   \n",
       "...                                                             ...    ...   \n",
       "[NINJA GAIDEN: Master Collection] NINJA GAIDEN ... 1         19.590  19.59   \n",
       "rFactor 2 PC                                       1          3.940   4.64   \n",
       "                                                   2          8.980   8.98   \n",
       "theHunter: Call of the Wild PC                     1          6.665   9.59   \n",
       "                                                   2         11.980  11.98   \n",
       "\n",
       "                                                                75%    max  \n",
       "Product                                            Quantity                 \n",
       " PERSONA 5 ROYAL PC                                1         53.590  68.49  \n",
       " X Rebirth VR Edition PC                           1         19.590  19.59  \n",
       ".hack//G.U. Last Recode PC                         1         19.590  19.59  \n",
       "3DMark PC                                          1         10.590  10.69  \n",
       "60 Parsecs! PC                                     1         19.590  19.59  \n",
       "...                                                             ...    ...  \n",
       "[NINJA GAIDEN: Master Collection] NINJA GAIDEN ... 1         19.590  19.59  \n",
       "rFactor 2 PC                                       1          5.065   5.29  \n",
       "                                                   2          8.980   8.98  \n",
       "theHunter: Call of the Wild PC                     1         11.365  15.89  \n",
       "                                                   2         11.980  11.98  \n",
       "\n",
       "[1986 rows x 8 columns]"
      ]
     },
     "execution_count": 13,
     "metadata": {},
     "output_type": "execute_result"
    }
   ],
   "source": [
    "df.groupby(['Product', 'Quantity'])['Price'].describe()"
   ]
  },
  {
   "cell_type": "markdown",
   "metadata": {},
   "source": [
    "HANDLING DATE TIME VALUES"
   ]
  },
  {
   "cell_type": "code",
   "execution_count": 14,
   "metadata": {},
   "outputs": [],
   "source": [
    "\n",
    "df['Purchase Date'] = pd.to_datetime(df['Purchase Date'], format=\"%d/%m/%Y %H:%M\")"
   ]
  },
  {
   "cell_type": "markdown",
   "metadata": {},
   "source": [
    "FINDING OUT RFM VALUES FOR EACH CUSTOMER"
   ]
  },
  {
   "cell_type": "markdown",
   "metadata": {},
   "source": [
    "RECENCY"
   ]
  },
  {
   "cell_type": "code",
   "execution_count": 15,
   "metadata": {},
   "outputs": [
    {
     "name": "stdout",
     "output_type": "stream",
     "text": [
      "2024-12-31 22:49:00\n"
     ]
    }
   ],
   "source": [
    "MaxDay = df['Purchase Date'].max() \n",
    "print(MaxDay)"
   ]
  },
  {
   "cell_type": "code",
   "execution_count": 16,
   "metadata": {},
   "outputs": [
    {
     "data": {
      "application/vnd.microsoft.datawrangler.viewer.v0+json": {
       "columns": [
        {
         "name": "Customer",
         "rawType": "int64",
         "type": "integer"
        },
        {
         "name": "Recency",
         "rawType": "int64",
         "type": "integer"
        }
       ],
       "conversionMethod": "pd.DataFrame",
       "ref": "7fde96b6-2213-4db1-b9f6-039405e169c9",
       "rows": [
        [
         "2",
         "164"
        ],
        [
         "24",
         "79"
        ],
        [
         "25",
         "19"
        ],
        [
         "26",
         "90"
        ],
        [
         "36",
         "88"
        ],
        [
         "44",
         "181"
        ],
        [
         "64",
         "336"
        ],
        [
         "65",
         "61"
        ],
        [
         "68",
         "311"
        ],
        [
         "69",
         "223"
        ],
        [
         "71",
         "241"
        ],
        [
         "102",
         "45"
        ],
        [
         "116",
         "158"
        ],
        [
         "124",
         "103"
        ],
        [
         "151",
         "162"
        ],
        [
         "168",
         "32"
        ],
        [
         "170",
         "39"
        ],
        [
         "171",
         "360"
        ],
        [
         "172",
         "131"
        ],
        [
         "184",
         "180"
        ],
        [
         "192",
         "101"
        ],
        [
         "199",
         "64"
        ],
        [
         "221",
         "247"
        ],
        [
         "239",
         "311"
        ],
        [
         "243",
         "105"
        ],
        [
         "261",
         "111"
        ],
        [
         "268",
         "298"
        ],
        [
         "269",
         "352"
        ],
        [
         "288",
         "294"
        ],
        [
         "308",
         "124"
        ],
        [
         "393",
         "57"
        ],
        [
         "412",
         "312"
        ],
        [
         "414",
         "270"
        ],
        [
         "420",
         "284"
        ],
        [
         "447",
         "9"
        ],
        [
         "497",
         "106"
        ],
        [
         "512",
         "286"
        ],
        [
         "584",
         "168"
        ],
        [
         "588",
         "224"
        ],
        [
         "592",
         "13"
        ],
        [
         "618",
         "335"
        ],
        [
         "625",
         "44"
        ],
        [
         "626",
         "297"
        ],
        [
         "630",
         "130"
        ],
        [
         "633",
         "99"
        ],
        [
         "644",
         "49"
        ],
        [
         "646",
         "349"
        ],
        [
         "721",
         "25"
        ],
        [
         "739",
         "172"
        ],
        [
         "747",
         "127"
        ]
       ],
       "shape": {
        "columns": 1,
        "rows": 4016
       }
      },
      "text/html": [
       "<div>\n",
       "<style scoped>\n",
       "    .dataframe tbody tr th:only-of-type {\n",
       "        vertical-align: middle;\n",
       "    }\n",
       "\n",
       "    .dataframe tbody tr th {\n",
       "        vertical-align: top;\n",
       "    }\n",
       "\n",
       "    .dataframe thead th {\n",
       "        text-align: right;\n",
       "    }\n",
       "</style>\n",
       "<table border=\"1\" class=\"dataframe\">\n",
       "  <thead>\n",
       "    <tr style=\"text-align: right;\">\n",
       "      <th></th>\n",
       "      <th>Recency</th>\n",
       "    </tr>\n",
       "    <tr>\n",
       "      <th>Customer</th>\n",
       "      <th></th>\n",
       "    </tr>\n",
       "  </thead>\n",
       "  <tbody>\n",
       "    <tr>\n",
       "      <th>2</th>\n",
       "      <td>164</td>\n",
       "    </tr>\n",
       "    <tr>\n",
       "      <th>24</th>\n",
       "      <td>79</td>\n",
       "    </tr>\n",
       "    <tr>\n",
       "      <th>25</th>\n",
       "      <td>19</td>\n",
       "    </tr>\n",
       "    <tr>\n",
       "      <th>26</th>\n",
       "      <td>90</td>\n",
       "    </tr>\n",
       "    <tr>\n",
       "      <th>36</th>\n",
       "      <td>88</td>\n",
       "    </tr>\n",
       "    <tr>\n",
       "      <th>...</th>\n",
       "      <td>...</td>\n",
       "    </tr>\n",
       "    <tr>\n",
       "      <th>241088</th>\n",
       "      <td>2</td>\n",
       "    </tr>\n",
       "    <tr>\n",
       "      <th>241896</th>\n",
       "      <td>2</td>\n",
       "    </tr>\n",
       "    <tr>\n",
       "      <th>244665</th>\n",
       "      <td>1</td>\n",
       "    </tr>\n",
       "    <tr>\n",
       "      <th>245421</th>\n",
       "      <td>1</td>\n",
       "    </tr>\n",
       "    <tr>\n",
       "      <th>246752</th>\n",
       "      <td>1</td>\n",
       "    </tr>\n",
       "  </tbody>\n",
       "</table>\n",
       "<p>4016 rows × 1 columns</p>\n",
       "</div>"
      ],
      "text/plain": [
       "          Recency\n",
       "Customer         \n",
       "2             164\n",
       "24             79\n",
       "25             19\n",
       "26             90\n",
       "36             88\n",
       "...           ...\n",
       "241088          2\n",
       "241896          2\n",
       "244665          1\n",
       "245421          1\n",
       "246752          1\n",
       "\n",
       "[4016 rows x 1 columns]"
      ]
     },
     "execution_count": 16,
     "metadata": {},
     "output_type": "execute_result"
    }
   ],
   "source": [
    "reference_date = MaxDay + pd.Timedelta(days=1)\n",
    "recency = df.groupby('Customer').agg({'Purchase Date': lambda x: (reference_date - x.max()).days})\n",
    "recency.rename(columns={'Purchase Date': 'Recency'}, inplace=True)\n",
    "recency"
   ]
  },
  {
   "cell_type": "markdown",
   "metadata": {},
   "source": [
    "FREQUENCY"
   ]
  },
  {
   "cell_type": "code",
   "execution_count": 17,
   "metadata": {},
   "outputs": [
    {
     "data": {
      "application/vnd.microsoft.datawrangler.viewer.v0+json": {
       "columns": [
        {
         "name": "Customer",
         "rawType": "int64",
         "type": "integer"
        },
        {
         "name": "Frequency",
         "rawType": "int64",
         "type": "integer"
        }
       ],
       "conversionMethod": "pd.DataFrame",
       "ref": "e65be1c4-ec97-4abc-ab4a-e1e7c79a0856",
       "rows": [
        [
         "2",
         "1"
        ],
        [
         "24",
         "6"
        ],
        [
         "25",
         "3"
        ],
        [
         "26",
         "6"
        ],
        [
         "36",
         "1"
        ],
        [
         "44",
         "2"
        ],
        [
         "64",
         "1"
        ],
        [
         "65",
         "2"
        ],
        [
         "68",
         "1"
        ],
        [
         "69",
         "1"
        ],
        [
         "71",
         "1"
        ],
        [
         "102",
         "3"
        ],
        [
         "116",
         "2"
        ],
        [
         "124",
         "5"
        ],
        [
         "151",
         "1"
        ],
        [
         "168",
         "1"
        ],
        [
         "170",
         "1"
        ],
        [
         "171",
         "1"
        ],
        [
         "172",
         "3"
        ],
        [
         "184",
         "5"
        ],
        [
         "192",
         "2"
        ],
        [
         "199",
         "5"
        ],
        [
         "221",
         "2"
        ],
        [
         "239",
         "1"
        ],
        [
         "243",
         "1"
        ],
        [
         "261",
         "1"
        ],
        [
         "268",
         "1"
        ],
        [
         "269",
         "1"
        ],
        [
         "288",
         "1"
        ],
        [
         "308",
         "3"
        ],
        [
         "393",
         "1"
        ],
        [
         "412",
         "1"
        ],
        [
         "414",
         "2"
        ],
        [
         "420",
         "1"
        ],
        [
         "447",
         "6"
        ],
        [
         "497",
         "1"
        ],
        [
         "512",
         "1"
        ],
        [
         "584",
         "4"
        ],
        [
         "588",
         "1"
        ],
        [
         "592",
         "15"
        ],
        [
         "618",
         "2"
        ],
        [
         "625",
         "6"
        ],
        [
         "626",
         "1"
        ],
        [
         "630",
         "1"
        ],
        [
         "633",
         "2"
        ],
        [
         "644",
         "8"
        ],
        [
         "646",
         "1"
        ],
        [
         "721",
         "6"
        ],
        [
         "739",
         "1"
        ],
        [
         "747",
         "1"
        ]
       ],
       "shape": {
        "columns": 1,
        "rows": 4016
       }
      },
      "text/html": [
       "<div>\n",
       "<style scoped>\n",
       "    .dataframe tbody tr th:only-of-type {\n",
       "        vertical-align: middle;\n",
       "    }\n",
       "\n",
       "    .dataframe tbody tr th {\n",
       "        vertical-align: top;\n",
       "    }\n",
       "\n",
       "    .dataframe thead th {\n",
       "        text-align: right;\n",
       "    }\n",
       "</style>\n",
       "<table border=\"1\" class=\"dataframe\">\n",
       "  <thead>\n",
       "    <tr style=\"text-align: right;\">\n",
       "      <th></th>\n",
       "      <th>Frequency</th>\n",
       "    </tr>\n",
       "    <tr>\n",
       "      <th>Customer</th>\n",
       "      <th></th>\n",
       "    </tr>\n",
       "  </thead>\n",
       "  <tbody>\n",
       "    <tr>\n",
       "      <th>2</th>\n",
       "      <td>1</td>\n",
       "    </tr>\n",
       "    <tr>\n",
       "      <th>24</th>\n",
       "      <td>6</td>\n",
       "    </tr>\n",
       "    <tr>\n",
       "      <th>25</th>\n",
       "      <td>3</td>\n",
       "    </tr>\n",
       "    <tr>\n",
       "      <th>26</th>\n",
       "      <td>6</td>\n",
       "    </tr>\n",
       "    <tr>\n",
       "      <th>36</th>\n",
       "      <td>1</td>\n",
       "    </tr>\n",
       "    <tr>\n",
       "      <th>...</th>\n",
       "      <td>...</td>\n",
       "    </tr>\n",
       "    <tr>\n",
       "      <th>241088</th>\n",
       "      <td>1</td>\n",
       "    </tr>\n",
       "    <tr>\n",
       "      <th>241896</th>\n",
       "      <td>1</td>\n",
       "    </tr>\n",
       "    <tr>\n",
       "      <th>244665</th>\n",
       "      <td>1</td>\n",
       "    </tr>\n",
       "    <tr>\n",
       "      <th>245421</th>\n",
       "      <td>1</td>\n",
       "    </tr>\n",
       "    <tr>\n",
       "      <th>246752</th>\n",
       "      <td>1</td>\n",
       "    </tr>\n",
       "  </tbody>\n",
       "</table>\n",
       "<p>4016 rows × 1 columns</p>\n",
       "</div>"
      ],
      "text/plain": [
       "          Frequency\n",
       "Customer           \n",
       "2                 1\n",
       "24                6\n",
       "25                3\n",
       "26                6\n",
       "36                1\n",
       "...             ...\n",
       "241088            1\n",
       "241896            1\n",
       "244665            1\n",
       "245421            1\n",
       "246752            1\n",
       "\n",
       "[4016 rows x 1 columns]"
      ]
     },
     "execution_count": 17,
     "metadata": {},
     "output_type": "execute_result"
    }
   ],
   "source": [
    "frequency = df.groupby('Customer').agg({'Purchase Date': 'count'})\n",
    "frequency.rename(columns={'Purchase Date': 'Frequency'}, inplace=True)\n",
    "frequency"
   ]
  },
  {
   "cell_type": "markdown",
   "metadata": {},
   "source": [
    "MONETARY"
   ]
  },
  {
   "cell_type": "code",
   "execution_count": 18,
   "metadata": {},
   "outputs": [
    {
     "data": {
      "application/vnd.microsoft.datawrangler.viewer.v0+json": {
       "columns": [
        {
         "name": "Customer",
         "rawType": "int64",
         "type": "integer"
        },
        {
         "name": "Monetary",
         "rawType": "float64",
         "type": "float"
        }
       ],
       "conversionMethod": "pd.DataFrame",
       "ref": "7feda36e-3fe7-48d2-aeb4-ffea2dd3c963",
       "rows": [
        [
         "2",
         "6.99"
        ],
        [
         "24",
         "893.36"
        ],
        [
         "25",
         "30.87"
        ],
        [
         "26",
         "254.64"
        ],
        [
         "36",
         "14.09"
        ],
        [
         "44",
         "13.78"
        ],
        [
         "64",
         "18.79"
        ],
        [
         "65",
         "23.18"
        ],
        [
         "68",
         "56.19"
        ],
        [
         "69",
         "19.99"
        ],
        [
         "71",
         "20.49"
        ],
        [
         "102",
         "48.97"
        ],
        [
         "116",
         "27.28"
        ],
        [
         "124",
         "387.45"
        ],
        [
         "151",
         "2.79"
        ],
        [
         "168",
         "36.09"
        ],
        [
         "170",
         "120.49"
        ],
        [
         "171",
         "18.39"
        ],
        [
         "172",
         "237.87"
        ],
        [
         "184",
         "241.15"
        ],
        [
         "192",
         "112.17999999999999"
        ],
        [
         "199",
         "175.85"
        ],
        [
         "221",
         "19.68"
        ],
        [
         "239",
         "82.59"
        ],
        [
         "243",
         "7.59"
        ],
        [
         "261",
         "19.59"
        ],
        [
         "268",
         "56.99"
        ],
        [
         "269",
         "50.09"
        ],
        [
         "288",
         "56.99"
        ],
        [
         "308",
         "247.57"
        ],
        [
         "393",
         "54.49"
        ],
        [
         "412",
         "56.19"
        ],
        [
         "414",
         "42.05"
        ],
        [
         "420",
         "64.29"
        ],
        [
         "447",
         "136.24"
        ],
        [
         "497",
         "26.09"
        ],
        [
         "512",
         "79.39"
        ],
        [
         "584",
         "118.36"
        ],
        [
         "588",
         "36.89"
        ],
        [
         "592",
         "338.35"
        ],
        [
         "618",
         "30.58"
        ],
        [
         "625",
         "279.84000000000003"
        ],
        [
         "626",
         "56.99"
        ],
        [
         "630",
         "42.25"
        ],
        [
         "633",
         "45.58"
        ],
        [
         "644",
         "51.42"
        ],
        [
         "646",
         "21.09"
        ],
        [
         "721",
         "210.04"
        ],
        [
         "739",
         "83.49"
        ],
        [
         "747",
         "19.49"
        ]
       ],
       "shape": {
        "columns": 1,
        "rows": 4016
       }
      },
      "text/html": [
       "<div>\n",
       "<style scoped>\n",
       "    .dataframe tbody tr th:only-of-type {\n",
       "        vertical-align: middle;\n",
       "    }\n",
       "\n",
       "    .dataframe tbody tr th {\n",
       "        vertical-align: top;\n",
       "    }\n",
       "\n",
       "    .dataframe thead th {\n",
       "        text-align: right;\n",
       "    }\n",
       "</style>\n",
       "<table border=\"1\" class=\"dataframe\">\n",
       "  <thead>\n",
       "    <tr style=\"text-align: right;\">\n",
       "      <th></th>\n",
       "      <th>Monetary</th>\n",
       "    </tr>\n",
       "    <tr>\n",
       "      <th>Customer</th>\n",
       "      <th></th>\n",
       "    </tr>\n",
       "  </thead>\n",
       "  <tbody>\n",
       "    <tr>\n",
       "      <th>2</th>\n",
       "      <td>6.99</td>\n",
       "    </tr>\n",
       "    <tr>\n",
       "      <th>24</th>\n",
       "      <td>893.36</td>\n",
       "    </tr>\n",
       "    <tr>\n",
       "      <th>25</th>\n",
       "      <td>30.87</td>\n",
       "    </tr>\n",
       "    <tr>\n",
       "      <th>26</th>\n",
       "      <td>254.64</td>\n",
       "    </tr>\n",
       "    <tr>\n",
       "      <th>36</th>\n",
       "      <td>14.09</td>\n",
       "    </tr>\n",
       "    <tr>\n",
       "      <th>...</th>\n",
       "      <td>...</td>\n",
       "    </tr>\n",
       "    <tr>\n",
       "      <th>241088</th>\n",
       "      <td>10.19</td>\n",
       "    </tr>\n",
       "    <tr>\n",
       "      <th>241896</th>\n",
       "      <td>19.59</td>\n",
       "    </tr>\n",
       "    <tr>\n",
       "      <th>244665</th>\n",
       "      <td>56.69</td>\n",
       "    </tr>\n",
       "    <tr>\n",
       "      <th>245421</th>\n",
       "      <td>39.69</td>\n",
       "    </tr>\n",
       "    <tr>\n",
       "      <th>246752</th>\n",
       "      <td>57.79</td>\n",
       "    </tr>\n",
       "  </tbody>\n",
       "</table>\n",
       "<p>4016 rows × 1 columns</p>\n",
       "</div>"
      ],
      "text/plain": [
       "          Monetary\n",
       "Customer          \n",
       "2             6.99\n",
       "24          893.36\n",
       "25           30.87\n",
       "26          254.64\n",
       "36           14.09\n",
       "...            ...\n",
       "241088       10.19\n",
       "241896       19.59\n",
       "244665       56.69\n",
       "245421       39.69\n",
       "246752       57.79\n",
       "\n",
       "[4016 rows x 1 columns]"
      ]
     },
     "execution_count": 18,
     "metadata": {},
     "output_type": "execute_result"
    }
   ],
   "source": [
    "df['Total Spend'] = df['Price'] * df['Quantity']\n",
    "monetary = df.groupby('Customer').agg({'Total Spend': 'sum'})\n",
    "monetary.rename(columns={'Total Spend': 'Monetary'}, inplace=True)\n",
    "monetary"
   ]
  },
  {
   "cell_type": "markdown",
   "metadata": {},
   "source": [
    "RFM Table"
   ]
  },
  {
   "cell_type": "code",
   "execution_count": 19,
   "metadata": {},
   "outputs": [
    {
     "data": {
      "application/vnd.microsoft.datawrangler.viewer.v0+json": {
       "columns": [
        {
         "name": "Customer",
         "rawType": "int64",
         "type": "integer"
        },
        {
         "name": "Recency",
         "rawType": "int64",
         "type": "integer"
        },
        {
         "name": "Frequency",
         "rawType": "int64",
         "type": "integer"
        },
        {
         "name": "Monetary",
         "rawType": "float64",
         "type": "float"
        }
       ],
       "conversionMethod": "pd.DataFrame",
       "ref": "8c0b0ed2-a23e-4f1e-afda-8a5ffca86396",
       "rows": [
        [
         "2",
         "164",
         "1",
         "6.99"
        ],
        [
         "24",
         "79",
         "6",
         "409.21999999999997"
        ],
        [
         "25",
         "19",
         "3",
         "30.87"
        ],
        [
         "26",
         "90",
         "6",
         "254.64"
        ],
        [
         "36",
         "88",
         "1",
         "14.09"
        ],
        [
         "44",
         "181",
         "2",
         "13.78"
        ],
        [
         "64",
         "336",
         "1",
         "18.79"
        ],
        [
         "65",
         "61",
         "2",
         "23.18"
        ],
        [
         "68",
         "311",
         "1",
         "56.19"
        ],
        [
         "69",
         "223",
         "1",
         "19.99"
        ],
        [
         "71",
         "241",
         "1",
         "20.49"
        ],
        [
         "102",
         "45",
         "3",
         "48.97"
        ],
        [
         "116",
         "158",
         "2",
         "27.28"
        ],
        [
         "124",
         "103",
         "5",
         "387.45"
        ],
        [
         "151",
         "162",
         "1",
         "2.79"
        ],
        [
         "168",
         "32",
         "1",
         "36.09"
        ],
        [
         "170",
         "39",
         "1",
         "120.49"
        ],
        [
         "171",
         "360",
         "1",
         "18.39"
        ],
        [
         "172",
         "131",
         "3",
         "237.87"
        ],
        [
         "184",
         "180",
         "5",
         "241.15"
        ],
        [
         "192",
         "101",
         "2",
         "112.17999999999999"
        ],
        [
         "199",
         "64",
         "5",
         "175.85"
        ],
        [
         "221",
         "247",
         "2",
         "19.68"
        ],
        [
         "239",
         "311",
         "1",
         "82.59"
        ],
        [
         "243",
         "105",
         "1",
         "7.59"
        ],
        [
         "261",
         "111",
         "1",
         "19.59"
        ],
        [
         "268",
         "298",
         "1",
         "56.99"
        ],
        [
         "269",
         "352",
         "1",
         "50.09"
        ],
        [
         "288",
         "294",
         "1",
         "56.99"
        ],
        [
         "308",
         "124",
         "3",
         "247.57"
        ],
        [
         "393",
         "57",
         "1",
         "54.49"
        ],
        [
         "412",
         "312",
         "1",
         "56.19"
        ],
        [
         "414",
         "270",
         "2",
         "28.27"
        ],
        [
         "420",
         "284",
         "1",
         "64.29"
        ],
        [
         "447",
         "9",
         "6",
         "136.24"
        ],
        [
         "497",
         "106",
         "1",
         "26.09"
        ],
        [
         "512",
         "286",
         "1",
         "79.39"
        ],
        [
         "584",
         "168",
         "4",
         "118.36"
        ],
        [
         "588",
         "224",
         "1",
         "36.89"
        ],
        [
         "592",
         "13",
         "15",
         "338.35"
        ],
        [
         "618",
         "335",
         "2",
         "30.58"
        ],
        [
         "625",
         "44",
         "6",
         "279.84000000000003"
        ],
        [
         "626",
         "297",
         "1",
         "56.99"
        ],
        [
         "630",
         "130",
         "1",
         "8.45"
        ],
        [
         "633",
         "99",
         "2",
         "45.58"
        ],
        [
         "644",
         "49",
         "8",
         "51.42"
        ],
        [
         "646",
         "349",
         "1",
         "21.09"
        ],
        [
         "721",
         "25",
         "6",
         "210.04"
        ],
        [
         "739",
         "172",
         "1",
         "83.49"
        ],
        [
         "747",
         "127",
         "1",
         "19.49"
        ]
       ],
       "shape": {
        "columns": 3,
        "rows": 4016
       }
      },
      "text/html": [
       "<div>\n",
       "<style scoped>\n",
       "    .dataframe tbody tr th:only-of-type {\n",
       "        vertical-align: middle;\n",
       "    }\n",
       "\n",
       "    .dataframe tbody tr th {\n",
       "        vertical-align: top;\n",
       "    }\n",
       "\n",
       "    .dataframe thead th {\n",
       "        text-align: right;\n",
       "    }\n",
       "</style>\n",
       "<table border=\"1\" class=\"dataframe\">\n",
       "  <thead>\n",
       "    <tr style=\"text-align: right;\">\n",
       "      <th></th>\n",
       "      <th>Recency</th>\n",
       "      <th>Frequency</th>\n",
       "      <th>Monetary</th>\n",
       "    </tr>\n",
       "    <tr>\n",
       "      <th>Customer</th>\n",
       "      <th></th>\n",
       "      <th></th>\n",
       "      <th></th>\n",
       "    </tr>\n",
       "  </thead>\n",
       "  <tbody>\n",
       "    <tr>\n",
       "      <th>2</th>\n",
       "      <td>164</td>\n",
       "      <td>1</td>\n",
       "      <td>6.99</td>\n",
       "    </tr>\n",
       "    <tr>\n",
       "      <th>24</th>\n",
       "      <td>79</td>\n",
       "      <td>6</td>\n",
       "      <td>409.22</td>\n",
       "    </tr>\n",
       "    <tr>\n",
       "      <th>25</th>\n",
       "      <td>19</td>\n",
       "      <td>3</td>\n",
       "      <td>30.87</td>\n",
       "    </tr>\n",
       "    <tr>\n",
       "      <th>26</th>\n",
       "      <td>90</td>\n",
       "      <td>6</td>\n",
       "      <td>254.64</td>\n",
       "    </tr>\n",
       "    <tr>\n",
       "      <th>36</th>\n",
       "      <td>88</td>\n",
       "      <td>1</td>\n",
       "      <td>14.09</td>\n",
       "    </tr>\n",
       "    <tr>\n",
       "      <th>...</th>\n",
       "      <td>...</td>\n",
       "      <td>...</td>\n",
       "      <td>...</td>\n",
       "    </tr>\n",
       "    <tr>\n",
       "      <th>241088</th>\n",
       "      <td>2</td>\n",
       "      <td>1</td>\n",
       "      <td>10.19</td>\n",
       "    </tr>\n",
       "    <tr>\n",
       "      <th>241896</th>\n",
       "      <td>2</td>\n",
       "      <td>1</td>\n",
       "      <td>19.59</td>\n",
       "    </tr>\n",
       "    <tr>\n",
       "      <th>244665</th>\n",
       "      <td>1</td>\n",
       "      <td>1</td>\n",
       "      <td>56.69</td>\n",
       "    </tr>\n",
       "    <tr>\n",
       "      <th>245421</th>\n",
       "      <td>1</td>\n",
       "      <td>1</td>\n",
       "      <td>39.69</td>\n",
       "    </tr>\n",
       "    <tr>\n",
       "      <th>246752</th>\n",
       "      <td>1</td>\n",
       "      <td>1</td>\n",
       "      <td>57.79</td>\n",
       "    </tr>\n",
       "  </tbody>\n",
       "</table>\n",
       "<p>4016 rows × 3 columns</p>\n",
       "</div>"
      ],
      "text/plain": [
       "          Recency  Frequency  Monetary\n",
       "Customer                              \n",
       "2             164          1      6.99\n",
       "24             79          6    409.22\n",
       "25             19          3     30.87\n",
       "26             90          6    254.64\n",
       "36             88          1     14.09\n",
       "...           ...        ...       ...\n",
       "241088          2          1     10.19\n",
       "241896          2          1     19.59\n",
       "244665          1          1     56.69\n",
       "245421          1          1     39.69\n",
       "246752          1          1     57.79\n",
       "\n",
       "[4016 rows x 3 columns]"
      ]
     },
     "execution_count": 19,
     "metadata": {},
     "output_type": "execute_result"
    }
   ],
   "source": [
    "rfm = pd.concat([recency,frequency,monetary], axis=1)\n",
    "rfm['Monetary'] = df.groupby('Customer')['Price'].sum()\n",
    "rfm"
   ]
  },
  {
   "cell_type": "markdown",
   "metadata": {},
   "source": [
    "USING MACHINE LEARNING TO SEGMENT CUSTOMERS INTO CLUSTERS"
   ]
  },
  {
   "cell_type": "code",
   "execution_count": 20,
   "metadata": {},
   "outputs": [],
   "source": [
    "scaler = StandardScaler()\n",
    "scaled = scaler.fit_transform(rfm)"
   ]
  },
  {
   "cell_type": "code",
   "execution_count": 21,
   "metadata": {},
   "outputs": [
    {
     "data": {
      "text/plain": [
       "array([[-0.01161241, -0.48341655, -0.75924178],\n",
       "       [-0.83248919,  0.98311984,  3.17328933],\n",
       "       [-1.41193161,  0.103198  , -0.52577127],\n",
       "       ...,\n",
       "       [-1.58576434, -0.48341655, -0.27333372],\n",
       "       [-1.58576434, -0.48341655, -0.4395397 ],\n",
       "       [-1.58576434, -0.48341655, -0.26257922]], shape=(4016, 3))"
      ]
     },
     "execution_count": 21,
     "metadata": {},
     "output_type": "execute_result"
    }
   ],
   "source": [
    "scaled"
   ]
  },
  {
   "cell_type": "code",
   "execution_count": 22,
   "metadata": {},
   "outputs": [
    {
     "data": {
      "image/png": "[encoded data removed]",
      "text/plain": [
       "<Figure size 800x500 with 1 Axes>"
      ]
     },
     "metadata": {},
     "output_type": "display_data"
    }
   ],
   "source": [
    "inertia = []\n",
    "\n",
    "for i in range(1, 11):\n",
    "    kmeans = KMeans(n_clusters=i, random_state=42)\n",
    "    kmeans.fit(scaled)\n",
    "    inertia.append(kmeans.inertia_)\n",
    "\n",
    "plt.figure(figsize=(8, 5))\n",
    "plt.plot(range(1, 11), inertia, marker=\"o\", linestyle=\"-\", color=\"b\")\n",
    "plt.xlabel(\"Number of Clusters\")\n",
    "plt.ylabel(\"Inertia\")\n",
    "plt.title(\"Elbow Method for Optimal Clusters\")\n",
    "plt.grid(True)\n",
    "plt.show()"
   ]
  },
  {
   "cell_type": "code",
   "execution_count": 23,
   "metadata": {},
   "outputs": [],
   "source": [
    "kmeans = KMeans(n_clusters=3, random_state=42)\n",
    "kmeans.fit(scaled)\n",
    "rfm[\"Clusters\"] = (kmeans.labels_+1)"
   ]
  },
  {
   "cell_type": "code",
   "execution_count": 24,
   "metadata": {},
   "outputs": [
    {
     "data": {
      "application/vnd.microsoft.datawrangler.viewer.v0+json": {
       "columns": [
        {
         "name": "Customer",
         "rawType": "int64",
         "type": "integer"
        },
        {
         "name": "Recency",
         "rawType": "int64",
         "type": "integer"
        },
        {
         "name": "Frequency",
         "rawType": "int64",
         "type": "integer"
        },
        {
         "name": "Monetary",
         "rawType": "float64",
         "type": "float"
        },
        {
         "name": "Clusters",
         "rawType": "int32",
         "type": "integer"
        }
       ],
       "conversionMethod": "pd.DataFrame",
       "ref": "c6a56c1f-7927-463c-82e5-a97de6883590",
       "rows": [
        [
         "2",
         "164",
         "1",
         "6.99",
         "2"
        ],
        [
         "24",
         "79",
         "6",
         "409.21999999999997",
         "1"
        ],
        [
         "25",
         "19",
         "3",
         "30.87",
         "2"
        ],
        [
         "26",
         "90",
         "6",
         "254.64",
         "1"
        ],
        [
         "36",
         "88",
         "1",
         "14.09",
         "2"
        ],
        [
         "44",
         "181",
         "2",
         "13.78",
         "3"
        ],
        [
         "64",
         "336",
         "1",
         "18.79",
         "3"
        ],
        [
         "65",
         "61",
         "2",
         "23.18",
         "2"
        ],
        [
         "68",
         "311",
         "1",
         "56.19",
         "3"
        ],
        [
         "69",
         "223",
         "1",
         "19.99",
         "3"
        ],
        [
         "71",
         "241",
         "1",
         "20.49",
         "3"
        ],
        [
         "102",
         "45",
         "3",
         "48.97",
         "2"
        ],
        [
         "116",
         "158",
         "2",
         "27.28",
         "2"
        ],
        [
         "124",
         "103",
         "5",
         "387.45",
         "1"
        ],
        [
         "151",
         "162",
         "1",
         "2.79",
         "2"
        ],
        [
         "168",
         "32",
         "1",
         "36.09",
         "2"
        ],
        [
         "170",
         "39",
         "1",
         "120.49",
         "2"
        ],
        [
         "171",
         "360",
         "1",
         "18.39",
         "3"
        ],
        [
         "172",
         "131",
         "3",
         "237.87",
         "2"
        ],
        [
         "184",
         "180",
         "5",
         "241.15",
         "2"
        ],
        [
         "192",
         "101",
         "2",
         "112.17999999999999",
         "2"
        ],
        [
         "199",
         "64",
         "5",
         "175.85",
         "2"
        ],
        [
         "221",
         "247",
         "2",
         "19.68",
         "3"
        ],
        [
         "239",
         "311",
         "1",
         "82.59",
         "3"
        ],
        [
         "243",
         "105",
         "1",
         "7.59",
         "2"
        ],
        [
         "261",
         "111",
         "1",
         "19.59",
         "2"
        ],
        [
         "268",
         "298",
         "1",
         "56.99",
         "3"
        ],
        [
         "269",
         "352",
         "1",
         "50.09",
         "3"
        ],
        [
         "288",
         "294",
         "1",
         "56.99",
         "3"
        ],
        [
         "308",
         "124",
         "3",
         "247.57",
         "2"
        ],
        [
         "393",
         "57",
         "1",
         "54.49",
         "2"
        ],
        [
         "412",
         "312",
         "1",
         "56.19",
         "3"
        ],
        [
         "414",
         "270",
         "2",
         "28.27",
         "3"
        ],
        [
         "420",
         "284",
         "1",
         "64.29",
         "3"
        ],
        [
         "447",
         "9",
         "6",
         "136.24",
         "2"
        ],
        [
         "497",
         "106",
         "1",
         "26.09",
         "2"
        ],
        [
         "512",
         "286",
         "1",
         "79.39",
         "3"
        ],
        [
         "584",
         "168",
         "4",
         "118.36",
         "2"
        ],
        [
         "588",
         "224",
         "1",
         "36.89",
         "3"
        ],
        [
         "592",
         "13",
         "15",
         "338.35",
         "1"
        ],
        [
         "618",
         "335",
         "2",
         "30.58",
         "3"
        ],
        [
         "625",
         "44",
         "6",
         "279.84000000000003",
         "1"
        ],
        [
         "626",
         "297",
         "1",
         "56.99",
         "3"
        ],
        [
         "630",
         "130",
         "1",
         "8.45",
         "2"
        ],
        [
         "633",
         "99",
         "2",
         "45.58",
         "2"
        ],
        [
         "644",
         "49",
         "8",
         "51.42",
         "2"
        ],
        [
         "646",
         "349",
         "1",
         "21.09",
         "3"
        ],
        [
         "721",
         "25",
         "6",
         "210.04",
         "2"
        ],
        [
         "739",
         "172",
         "1",
         "83.49",
         "2"
        ],
        [
         "747",
         "127",
         "1",
         "19.49",
         "2"
        ]
       ],
       "shape": {
        "columns": 4,
        "rows": 4016
       }
      },
      "text/html": [
       "<div>\n",
       "<style scoped>\n",
       "    .dataframe tbody tr th:only-of-type {\n",
       "        vertical-align: middle;\n",
       "    }\n",
       "\n",
       "    .dataframe tbody tr th {\n",
       "        vertical-align: top;\n",
       "    }\n",
       "\n",
       "    .dataframe thead th {\n",
       "        text-align: right;\n",
       "    }\n",
       "</style>\n",
       "<table border=\"1\" class=\"dataframe\">\n",
       "  <thead>\n",
       "    <tr style=\"text-align: right;\">\n",
       "      <th></th>\n",
       "      <th>Recency</th>\n",
       "      <th>Frequency</th>\n",
       "      <th>Monetary</th>\n",
       "      <th>Clusters</th>\n",
       "    </tr>\n",
       "    <tr>\n",
       "      <th>Customer</th>\n",
       "      <th></th>\n",
       "      <th></th>\n",
       "      <th></th>\n",
       "      <th></th>\n",
       "    </tr>\n",
       "  </thead>\n",
       "  <tbody>\n",
       "    <tr>\n",
       "      <th>2</th>\n",
       "      <td>164</td>\n",
       "      <td>1</td>\n",
       "      <td>6.99</td>\n",
       "      <td>2</td>\n",
       "    </tr>\n",
       "    <tr>\n",
       "      <th>24</th>\n",
       "      <td>79</td>\n",
       "      <td>6</td>\n",
       "      <td>409.22</td>\n",
       "      <td>1</td>\n",
       "    </tr>\n",
       "    <tr>\n",
       "      <th>25</th>\n",
       "      <td>19</td>\n",
       "      <td>3</td>\n",
       "      <td>30.87</td>\n",
       "      <td>2</td>\n",
       "    </tr>\n",
       "    <tr>\n",
       "      <th>26</th>\n",
       "      <td>90</td>\n",
       "      <td>6</td>\n",
       "      <td>254.64</td>\n",
       "      <td>1</td>\n",
       "    </tr>\n",
       "    <tr>\n",
       "      <th>36</th>\n",
       "      <td>88</td>\n",
       "      <td>1</td>\n",
       "      <td>14.09</td>\n",
       "      <td>2</td>\n",
       "    </tr>\n",
       "    <tr>\n",
       "      <th>...</th>\n",
       "      <td>...</td>\n",
       "      <td>...</td>\n",
       "      <td>...</td>\n",
       "      <td>...</td>\n",
       "    </tr>\n",
       "    <tr>\n",
       "      <th>241088</th>\n",
       "      <td>2</td>\n",
       "      <td>1</td>\n",
       "      <td>10.19</td>\n",
       "      <td>2</td>\n",
       "    </tr>\n",
       "    <tr>\n",
       "      <th>241896</th>\n",
       "      <td>2</td>\n",
       "      <td>1</td>\n",
       "      <td>19.59</td>\n",
       "      <td>2</td>\n",
       "    </tr>\n",
       "    <tr>\n",
       "      <th>244665</th>\n",
       "      <td>1</td>\n",
       "      <td>1</td>\n",
       "      <td>56.69</td>\n",
       "      <td>2</td>\n",
       "    </tr>\n",
       "    <tr>\n",
       "      <th>245421</th>\n",
       "      <td>1</td>\n",
       "      <td>1</td>\n",
       "      <td>39.69</td>\n",
       "      <td>2</td>\n",
       "    </tr>\n",
       "    <tr>\n",
       "      <th>246752</th>\n",
       "      <td>1</td>\n",
       "      <td>1</td>\n",
       "      <td>57.79</td>\n",
       "      <td>2</td>\n",
       "    </tr>\n",
       "  </tbody>\n",
       "</table>\n",
       "<p>4016 rows × 4 columns</p>\n",
       "</div>"
      ],
      "text/plain": [
       "          Recency  Frequency  Monetary  Clusters\n",
       "Customer                                        \n",
       "2             164          1      6.99         2\n",
       "24             79          6    409.22         1\n",
       "25             19          3     30.87         2\n",
       "26             90          6    254.64         1\n",
       "36             88          1     14.09         2\n",
       "...           ...        ...       ...       ...\n",
       "241088          2          1     10.19         2\n",
       "241896          2          1     19.59         2\n",
       "244665          1          1     56.69         2\n",
       "245421          1          1     39.69         2\n",
       "246752          1          1     57.79         2\n",
       "\n",
       "[4016 rows x 4 columns]"
      ]
     },
     "execution_count": 24,
     "metadata": {},
     "output_type": "execute_result"
    }
   ],
   "source": [
    "rfm"
   ]
  },
  {
   "cell_type": "code",
   "execution_count": 25,
   "metadata": {},
   "outputs": [
    {
     "data": {
      "text/plain": [
       "array([2, 1, 3], dtype=int32)"
      ]
     },
     "execution_count": 25,
     "metadata": {},
     "output_type": "execute_result"
    }
   ],
   "source": [
    "rfm['Clusters'].unique()"
   ]
  },
  {
   "cell_type": "code",
   "execution_count": 26,
   "metadata": {},
   "outputs": [
    {
     "data": {
      "application/vnd.microsoft.datawrangler.viewer.v0+json": {
       "columns": [
        {
         "name": "Clusters",
         "rawType": "int32",
         "type": "integer"
        },
        {
         "name": "Recency",
         "rawType": "float64",
         "type": "float"
        },
        {
         "name": "Frequency",
         "rawType": "float64",
         "type": "float"
        },
        {
         "name": "Monetary",
         "rawType": "float64",
         "type": "float"
        }
       ],
       "conversionMethod": "pd.DataFrame",
       "ref": "60c309aa-7b88-45b3-b23d-95de058ceb99",
       "rows": [
        [
         "1",
         "66.54790419161677",
         "10.82934131736527",
         "338.08170658682633"
        ],
        [
         "2",
         "92.57251136937847",
         "2.2986356745831227",
         "71.98807478524508"
        ],
        [
         "3",
         "268.9518496770405",
         "1.4497944803288314",
         "49.65351732237229"
        ]
       ],
       "shape": {
        "columns": 3,
        "rows": 3
       }
      },
      "text/html": [
       "<div>\n",
       "<style scoped>\n",
       "    .dataframe tbody tr th:only-of-type {\n",
       "        vertical-align: middle;\n",
       "    }\n",
       "\n",
       "    .dataframe tbody tr th {\n",
       "        vertical-align: top;\n",
       "    }\n",
       "\n",
       "    .dataframe thead th {\n",
       "        text-align: right;\n",
       "    }\n",
       "</style>\n",
       "<table border=\"1\" class=\"dataframe\">\n",
       "  <thead>\n",
       "    <tr style=\"text-align: right;\">\n",
       "      <th></th>\n",
       "      <th>Recency</th>\n",
       "      <th>Frequency</th>\n",
       "      <th>Monetary</th>\n",
       "    </tr>\n",
       "    <tr>\n",
       "      <th>Clusters</th>\n",
       "      <th></th>\n",
       "      <th></th>\n",
       "      <th></th>\n",
       "    </tr>\n",
       "  </thead>\n",
       "  <tbody>\n",
       "    <tr>\n",
       "      <th>1</th>\n",
       "      <td>66.547904</td>\n",
       "      <td>10.829341</td>\n",
       "      <td>338.081707</td>\n",
       "    </tr>\n",
       "    <tr>\n",
       "      <th>2</th>\n",
       "      <td>92.572511</td>\n",
       "      <td>2.298636</td>\n",
       "      <td>71.988075</td>\n",
       "    </tr>\n",
       "    <tr>\n",
       "      <th>3</th>\n",
       "      <td>268.951850</td>\n",
       "      <td>1.449794</td>\n",
       "      <td>49.653517</td>\n",
       "    </tr>\n",
       "  </tbody>\n",
       "</table>\n",
       "</div>"
      ],
      "text/plain": [
       "             Recency  Frequency    Monetary\n",
       "Clusters                                   \n",
       "1          66.547904  10.829341  338.081707\n",
       "2          92.572511   2.298636   71.988075\n",
       "3         268.951850   1.449794   49.653517"
      ]
     },
     "execution_count": 26,
     "metadata": {},
     "output_type": "execute_result"
    }
   ],
   "source": [
    "group = rfm.groupby('Clusters')[['Recency', 'Frequency', 'Monetary']]\n",
    "group.mean()"
   ]
  },
  {
   "cell_type": "code",
   "execution_count": null,
   "metadata": {},
   "outputs": [
    {
     "data": {
      "image/png": "[encoded data removed]",
      "text/plain": [
       "<Figure size 800x800 with 1 Axes>"
      ]
     },
     "metadata": {},
     "output_type": "display_data"
    }
   ],
   "source": [
    "import matplotlib.pyplot as plt\n",
    "\n",
    "\n",
    "clusters = ['Cluster 1', 'Cluster 2', 'Cluster 3']\n",
    "monetary_values = [338.08, 71.99, 49.65]  \n",
    "colors = ['blue', 'orange', 'green']  \n",
    "\n",
    "plt.figure(figsize=(8, 8))\n",
    "wedges, texts, autotexts = plt.pie(\n",
    "    monetary_values, labels=clusters, autopct='%1.1f%%', \n",
    "    colors=colors, startangle=140, wedgeprops={'edgecolor': 'black', 'linewidth': 1.5}\n",
    ")\n",
    "\n",
    "for text in texts + autotexts:\n",
    "    text.set_fontsize(12)\n",
    "    text.set_fontweight('bold')\n",
    "\n",
    "\n",
    "plt.title('Customer Segments by Monetary Value', fontsize=14, fontweight='bold')\n",
    "plt.show()\n"
   ]
  },
  {
   "cell_type": "code",
   "execution_count": 30,
   "metadata": {},
   "outputs": [
    {
     "data": {
      "text/plain": [
       "Clusters\n",
       "2    1979\n",
       "3    1703\n",
       "1     334\n",
       "Name: count, dtype: int64"
      ]
     },
     "execution_count": 30,
     "metadata": {},
     "output_type": "execute_result"
    }
   ],
   "source": [
    "rfm['Clusters'].value_counts()"
   ]
  },
  {
   "cell_type": "code",
   "execution_count": 31,
   "metadata": {},
   "outputs": [
    {
     "data": {
      "application/vnd.microsoft.datawrangler.viewer.v0+json": {
       "columns": [
        {
         "name": "Customer",
         "rawType": "int64",
         "type": "integer"
        },
        {
         "name": "Recency",
         "rawType": "int64",
         "type": "integer"
        },
        {
         "name": "Frequency",
         "rawType": "int64",
         "type": "integer"
        },
        {
         "name": "Monetary",
         "rawType": "float64",
         "type": "float"
        },
        {
         "name": "Clusters",
         "rawType": "int32",
         "type": "integer"
        },
        {
         "name": "Customer Segments",
         "rawType": "object",
         "type": "string"
        }
       ],
       "conversionMethod": "pd.DataFrame",
       "ref": "4790bd0c-002c-419c-853b-05c177b5791a",
       "rows": [
        [
         "2",
         "164",
         "1",
         "6.99",
         "2",
         "2"
        ],
        [
         "24",
         "79",
         "6",
         "409.21999999999997",
         "1",
         "1"
        ],
        [
         "25",
         "19",
         "3",
         "30.87",
         "2",
         "2"
        ],
        [
         "26",
         "90",
         "6",
         "254.64",
         "1",
         "1"
        ],
        [
         "36",
         "88",
         "1",
         "14.09",
         "2",
         "2"
        ],
        [
         "44",
         "181",
         "2",
         "13.78",
         "3",
         "3"
        ],
        [
         "64",
         "336",
         "1",
         "18.79",
         "3",
         "3"
        ],
        [
         "65",
         "61",
         "2",
         "23.18",
         "2",
         "2"
        ],
        [
         "68",
         "311",
         "1",
         "56.19",
         "3",
         "3"
        ],
        [
         "69",
         "223",
         "1",
         "19.99",
         "3",
         "3"
        ],
        [
         "71",
         "241",
         "1",
         "20.49",
         "3",
         "3"
        ],
        [
         "102",
         "45",
         "3",
         "48.97",
         "2",
         "2"
        ],
        [
         "116",
         "158",
         "2",
         "27.28",
         "2",
         "2"
        ],
        [
         "124",
         "103",
         "5",
         "387.45",
         "1",
         "1"
        ],
        [
         "151",
         "162",
         "1",
         "2.79",
         "2",
         "2"
        ],
        [
         "168",
         "32",
         "1",
         "36.09",
         "2",
         "2"
        ],
        [
         "170",
         "39",
         "1",
         "120.49",
         "2",
         "2"
        ],
        [
         "171",
         "360",
         "1",
         "18.39",
         "3",
         "3"
        ],
        [
         "172",
         "131",
         "3",
         "237.87",
         "2",
         "2"
        ],
        [
         "184",
         "180",
         "5",
         "241.15",
         "2",
         "2"
        ],
        [
         "192",
         "101",
         "2",
         "112.17999999999999",
         "2",
         "2"
        ],
        [
         "199",
         "64",
         "5",
         "175.85",
         "2",
         "2"
        ],
        [
         "221",
         "247",
         "2",
         "19.68",
         "3",
         "3"
        ],
        [
         "239",
         "311",
         "1",
         "82.59",
         "3",
         "3"
        ],
        [
         "243",
         "105",
         "1",
         "7.59",
         "2",
         "2"
        ],
        [
         "261",
         "111",
         "1",
         "19.59",
         "2",
         "2"
        ],
        [
         "268",
         "298",
         "1",
         "56.99",
         "3",
         "3"
        ],
        [
         "269",
         "352",
         "1",
         "50.09",
         "3",
         "3"
        ],
        [
         "288",
         "294",
         "1",
         "56.99",
         "3",
         "3"
        ],
        [
         "308",
         "124",
         "3",
         "247.57",
         "2",
         "2"
        ],
        [
         "393",
         "57",
         "1",
         "54.49",
         "2",
         "2"
        ],
        [
         "412",
         "312",
         "1",
         "56.19",
         "3",
         "3"
        ],
        [
         "414",
         "270",
         "2",
         "28.27",
         "3",
         "3"
        ],
        [
         "420",
         "284",
         "1",
         "64.29",
         "3",
         "3"
        ],
        [
         "447",
         "9",
         "6",
         "136.24",
         "2",
         "2"
        ],
        [
         "497",
         "106",
         "1",
         "26.09",
         "2",
         "2"
        ],
        [
         "512",
         "286",
         "1",
         "79.39",
         "3",
         "3"
        ],
        [
         "584",
         "168",
         "4",
         "118.36",
         "2",
         "2"
        ],
        [
         "588",
         "224",
         "1",
         "36.89",
         "3",
         "3"
        ],
        [
         "592",
         "13",
         "15",
         "338.35",
         "1",
         "1"
        ],
        [
         "618",
         "335",
         "2",
         "30.58",
         "3",
         "3"
        ],
        [
         "625",
         "44",
         "6",
         "279.84000000000003",
         "1",
         "1"
        ],
        [
         "626",
         "297",
         "1",
         "56.99",
         "3",
         "3"
        ],
        [
         "630",
         "130",
         "1",
         "8.45",
         "2",
         "2"
        ],
        [
         "633",
         "99",
         "2",
         "45.58",
         "2",
         "2"
        ],
        [
         "644",
         "49",
         "8",
         "51.42",
         "2",
         "2"
        ],
        [
         "646",
         "349",
         "1",
         "21.09",
         "3",
         "3"
        ],
        [
         "721",
         "25",
         "6",
         "210.04",
         "2",
         "2"
        ],
        [
         "739",
         "172",
         "1",
         "83.49",
         "2",
         "2"
        ],
        [
         "747",
         "127",
         "1",
         "19.49",
         "2",
         "2"
        ]
       ],
       "shape": {
        "columns": 5,
        "rows": 4016
       }
      },
      "text/html": [
       "<div>\n",
       "<style scoped>\n",
       "    .dataframe tbody tr th:only-of-type {\n",
       "        vertical-align: middle;\n",
       "    }\n",
       "\n",
       "    .dataframe tbody tr th {\n",
       "        vertical-align: top;\n",
       "    }\n",
       "\n",
       "    .dataframe thead th {\n",
       "        text-align: right;\n",
       "    }\n",
       "</style>\n",
       "<table border=\"1\" class=\"dataframe\">\n",
       "  <thead>\n",
       "    <tr style=\"text-align: right;\">\n",
       "      <th></th>\n",
       "      <th>Recency</th>\n",
       "      <th>Frequency</th>\n",
       "      <th>Monetary</th>\n",
       "      <th>Clusters</th>\n",
       "      <th>Customer Segments</th>\n",
       "    </tr>\n",
       "    <tr>\n",
       "      <th>Customer</th>\n",
       "      <th></th>\n",
       "      <th></th>\n",
       "      <th></th>\n",
       "      <th></th>\n",
       "      <th></th>\n",
       "    </tr>\n",
       "  </thead>\n",
       "  <tbody>\n",
       "    <tr>\n",
       "      <th>2</th>\n",
       "      <td>164</td>\n",
       "      <td>1</td>\n",
       "      <td>6.99</td>\n",
       "      <td>2</td>\n",
       "      <td>2</td>\n",
       "    </tr>\n",
       "    <tr>\n",
       "      <th>24</th>\n",
       "      <td>79</td>\n",
       "      <td>6</td>\n",
       "      <td>409.22</td>\n",
       "      <td>1</td>\n",
       "      <td>1</td>\n",
       "    </tr>\n",
       "    <tr>\n",
       "      <th>25</th>\n",
       "      <td>19</td>\n",
       "      <td>3</td>\n",
       "      <td>30.87</td>\n",
       "      <td>2</td>\n",
       "      <td>2</td>\n",
       "    </tr>\n",
       "    <tr>\n",
       "      <th>26</th>\n",
       "      <td>90</td>\n",
       "      <td>6</td>\n",
       "      <td>254.64</td>\n",
       "      <td>1</td>\n",
       "      <td>1</td>\n",
       "    </tr>\n",
       "    <tr>\n",
       "      <th>36</th>\n",
       "      <td>88</td>\n",
       "      <td>1</td>\n",
       "      <td>14.09</td>\n",
       "      <td>2</td>\n",
       "      <td>2</td>\n",
       "    </tr>\n",
       "    <tr>\n",
       "      <th>...</th>\n",
       "      <td>...</td>\n",
       "      <td>...</td>\n",
       "      <td>...</td>\n",
       "      <td>...</td>\n",
       "      <td>...</td>\n",
       "    </tr>\n",
       "    <tr>\n",
       "      <th>241088</th>\n",
       "      <td>2</td>\n",
       "      <td>1</td>\n",
       "      <td>10.19</td>\n",
       "      <td>2</td>\n",
       "      <td>2</td>\n",
       "    </tr>\n",
       "    <tr>\n",
       "      <th>241896</th>\n",
       "      <td>2</td>\n",
       "      <td>1</td>\n",
       "      <td>19.59</td>\n",
       "      <td>2</td>\n",
       "      <td>2</td>\n",
       "    </tr>\n",
       "    <tr>\n",
       "      <th>244665</th>\n",
       "      <td>1</td>\n",
       "      <td>1</td>\n",
       "      <td>56.69</td>\n",
       "      <td>2</td>\n",
       "      <td>2</td>\n",
       "    </tr>\n",
       "    <tr>\n",
       "      <th>245421</th>\n",
       "      <td>1</td>\n",
       "      <td>1</td>\n",
       "      <td>39.69</td>\n",
       "      <td>2</td>\n",
       "      <td>2</td>\n",
       "    </tr>\n",
       "    <tr>\n",
       "      <th>246752</th>\n",
       "      <td>1</td>\n",
       "      <td>1</td>\n",
       "      <td>57.79</td>\n",
       "      <td>2</td>\n",
       "      <td>2</td>\n",
       "    </tr>\n",
       "  </tbody>\n",
       "</table>\n",
       "<p>4016 rows × 5 columns</p>\n",
       "</div>"
      ],
      "text/plain": [
       "          Recency  Frequency  Monetary  Clusters Customer Segments\n",
       "Customer                                                          \n",
       "2             164          1      6.99         2                 2\n",
       "24             79          6    409.22         1                 1\n",
       "25             19          3     30.87         2                 2\n",
       "26             90          6    254.64         1                 1\n",
       "36             88          1     14.09         2                 2\n",
       "...           ...        ...       ...       ...               ...\n",
       "241088          2          1     10.19         2                 2\n",
       "241896          2          1     19.59         2                 2\n",
       "244665          1          1     56.69         2                 2\n",
       "245421          1          1     39.69         2                 2\n",
       "246752          1          1     57.79         2                 2\n",
       "\n",
       "[4016 rows x 5 columns]"
      ]
     },
     "execution_count": 31,
     "metadata": {},
     "output_type": "execute_result"
    }
   ],
   "source": [
    "def func(row):\n",
    "    if row['Clusters']==1:\n",
    "        return '1'\n",
    "    elif row['Clusters']==2:\n",
    "        return '2'\n",
    "    elif row['Clusters']==3:\n",
    "        return '3'\n",
    "\n",
    "rfm['Customer Segments'] = rfm.apply(func,axis=1)\n",
    "rfm"
   ]
  },
  {
   "cell_type": "code",
   "execution_count": 32,
   "metadata": {},
   "outputs": [
    {
     "data": {
      "text/plain": [
       "Customer Segments\n",
       "2    1979\n",
       "3    1703\n",
       "1     334\n",
       "Name: count, dtype: int64"
      ]
     },
     "execution_count": 32,
     "metadata": {},
     "output_type": "execute_result"
    }
   ],
   "source": [
    "result = rfm['Customer Segments'].value_counts()\n",
    "result\n"
   ]
  },
  {
   "cell_type": "code",
   "execution_count": null,
   "metadata": {},
   "outputs": [
    {
     "name": "stderr",
     "output_type": "stream",
     "text": [
      "C:\\Users\\utkso\\AppData\\Local\\Temp\\ipykernel_12084\\976698843.py:4: FutureWarning: \n",
      "\n",
      "Passing `palette` without assigning `hue` is deprecated and will be removed in v0.14.0. Assign the `x` variable to `hue` and set `legend=False` for the same effect.\n",
      "\n",
      "  ax = sns.countplot(x=rfm['Customer Segments'], order=custom_order, palette=\"coolwarm\", edgecolor=\"black\")\n"
     ]
    },
    {
     "data": {
      "image/png": "[encoded data removed]",
      "text/plain": [
       "<Figure size 800x500 with 1 Axes>"
      ]
     },
     "metadata": {},
     "output_type": "display_data"
    },
    {
     "data": {
      "image/png": "[encoded data removed]",
      "text/plain": [
       "<Figure size 700x700 with 1 Axes>"
      ]
     },
     "metadata": {},
     "output_type": "display_data"
    },
    {
     "data": {
      "image/png": "[encoded data removed]",
      "text/plain": [
       "<Figure size 800x800 with 1 Axes>"
      ]
     },
     "metadata": {},
     "output_type": "display_data"
    }
   ],
   "source": [
    "custom_order = ['2', '3', '1']\n",
    "\n",
    "plt.figure(figsize=(8, 5))\n",
    "ax = sns.countplot(x=rfm['Customer Segments'], order=custom_order, palette=\"coolwarm\", edgecolor=\"black\")\n",
    "\n",
    "for p in ax.patches:\n",
    "    ax.annotate(f'{p.get_height()}', (p.get_x() + p.get_width() / 2., p.get_height()), \n",
    "                ha='center', va='bottom', fontsize=12, color='black')\n",
    "\n",
    "plt.xlabel(\"RFM Segments (Customer Segments)\")\n",
    "plt.ylabel(\"Number of Customers\")\n",
    "plt.title(\"Cluster Size Distribution\")\n",
    "plt.grid(axis=\"y\", linestyle=\"--\", alpha=0.7)\n",
    "plt.show()\n",
    "\n",
    "\n",
    "segment_counts = rfm['Clusters'].value_counts().sort_index()\n",
    "\n",
    "\n",
    "cluster_labels = [f\"Cluster {int(i)}\" for i in segment_counts.index]\n",
    "\n",
    "\n",
    "colors = sns.color_palette(\"Set2\")\n",
    "\n",
    "\n",
    "plt.figure(figsize=(7, 7))\n",
    "wedges, texts, autotexts = plt.pie(segment_counts, labels=cluster_labels, autopct='%1.1f%%', \n",
    "                                   colors=colors, wedgeprops={\"edgecolor\": \"black\"}, startangle=140)\n",
    "\n",
    "\n",
    "for text in texts + autotexts:\n",
    "    text.set_fontsize(12)\n",
    "    text.set_color(\"black\")\n",
    "\n",
    "\n",
    "plt.title(\"Customer Segments Distribution\", fontsize=14)\n",
    "plt.show()\n",
    "\n"
   ]
  },
  {
   "cell_type": "code",
   "execution_count": null,
   "metadata": {},
   "outputs": [
    {
     "data": {
      "image/png": "[encoded data removed]",
      "text/plain": [
       "<Figure size 800x600 with 1 Axes>"
      ]
     },
     "metadata": {},
     "output_type": "display_data"
    }
   ],
   "source": [
    "plt.figure(figsize=(8, 6))\n",
    "sns.scatterplot(x=rfm['Recency'], y=rfm['Frequency'], hue=rfm['Clusters'], palette='viridis', alpha=0.7)\n",
    "plt.xlabel(\"Recency (Days since last purchase)\")\n",
    "plt.ylabel(\"Frequency (Number of purchases)\")\n",
    "plt.title(\"Recency vs. Frequency Scatter Plot\")\n",
    "plt.legend(title=\"Clusters\")\n",
    "plt.grid(True)\n",
    "plt.show()"
   ]
  },
  {
   "cell_type": "code",
   "execution_count": null,
   "metadata": {},
   "outputs": [
    {
     "name": "stderr",
     "output_type": "stream",
     "text": [
      "C:\\Users\\utkso\\AppData\\Local\\Temp\\ipykernel_14052\\928538374.py:2: FutureWarning: \n",
      "\n",
      "Passing `palette` without assigning `hue` is deprecated and will be removed in v0.14.0. Assign the `x` variable to `hue` and set `legend=False` for the same effect.\n",
      "\n",
      "  sns.boxplot(x=rfm['Clusters'], y=rfm['Monetary'], palette='Set2')\n"
     ]
    },
    {
     "data": {
      "image/png": "[encoded data removed]",
      "text/plain": [
       "<Figure size 800x600 with 1 Axes>"
      ]
     },
     "metadata": {},
     "output_type": "display_data"
    }
   ],
   "source": [
    "plt.figure(figsize=(8, 6))\n",
    "sns.boxplot(x=rfm['Clusters'], y=rfm['Monetary'], palette='Set2')\n",
    "plt.xlabel(\"RFM Segment (Clusters)\")\n",
    "plt.ylabel(\"Monetary Value (Total Spend)\")\n",
    "plt.title(\"Boxplot of Monetary Value per Segment\")\n",
    "plt.grid(True)\n",
    "plt.show()\n"
   ]
  },
  {
   "cell_type": "code",
   "execution_count": null,
   "metadata": {},
   "outputs": [
    {
     "data": {
      "image/png": "[encoded data removed]",
      "text/plain": [
       "<Figure size 800x600 with 2 Axes>"
      ]
     },
     "metadata": {},
     "output_type": "display_data"
    }
   ],
   "source": [
    "rfm_heatmap = rfm[['Recency', 'Frequency', 'Monetary']]\n",
    "rfm_heatmap = (rfm_heatmap - rfm_heatmap.min()) / (rfm_heatmap.max() - rfm_heatmap.min())  # Normalize\n",
    "\n",
    "plt.figure(figsize=(8, 6))\n",
    "sns.heatmap(rfm_heatmap.corr(), annot=True, cmap='coolwarm', linewidths=0.5)\n",
    "plt.title(\"Heatmap of RFM Scores\")\n",
    "plt.show()"
   ]
  },
  {
   "cell_type": "code",
   "execution_count": null,
   "metadata": {},
   "outputs": [
    {
     "data": {
      "image/png": "[encoded data removed]",
      "text/plain": [
       "<Figure size 1800x500 with 3 Axes>"
      ]
     },
     "metadata": {},
     "output_type": "display_data"
    }
   ],
   "source": [
    "fig, axes = plt.subplots(1, 3, figsize=(18, 5))\n",
    "\n",
    "sns.histplot(rfm['Recency'], bins=30, kde=True, ax=axes[0], color=\"blue\")\n",
    "axes[0].set_title(\"Distribution of Recency\")\n",
    "axes[0].set_xlabel(\"Recency (Days since last purchase)\")\n",
    "\n",
    "sns.histplot(rfm['Frequency'], bins=30, kde=True, ax=axes[1], color=\"green\")\n",
    "axes[1].set_title(\"Distribution of Frequency\")\n",
    "axes[1].set_xlabel(\"Frequency (Number of purchases)\")\n",
    "\n",
    "sns.histplot(rfm['Monetary'], bins=30, kde=True, ax=axes[2], color=\"red\")\n",
    "axes[2].set_title(\"Distribution of Monetary Value\")\n",
    "axes[2].set_xlabel(\"Monetary Value (Total Spend)\")\n",
    "\n",
    "plt.tight_layout()\n",
    "plt.show()"
   ]
  }
 ],
 "metadata": {
  "kernelspec": {
   "display_name": "Python 3",
   "language": "python",
   "name": "python3"
  },
  "language_info": {
   "codemirror_mode": {
    "name": "ipython",
    "version": 3
   },
   "file_extension": ".py",
   "mimetype": "text/x-python",
   "name": "python",
   "nbconvert_exporter": "python",
   "pygments_lexer": "ipython3",
   "version": "3.11.9"
  }
 },
 "nbformat": 4,
 "nbformat_minor": 2
}
